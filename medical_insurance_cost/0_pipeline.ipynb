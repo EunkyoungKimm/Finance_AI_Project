{
 "cells": [
  {
   "cell_type": "markdown",
   "metadata": {},
   "source": [
    "## Loading Data\n",
    " "
   ]
  },
  {
   "cell_type": "code",
   "execution_count": 1,
   "metadata": {
    "_cell_guid": "b1076dfc-b9ad-4769-8c92-a6c4dae69d19",
    "_uuid": "8f2839f25d086af736a60e9eeb907d3b93b6e0e5",
    "execution": {
     "iopub.execute_input": "2021-10-17T09:54:51.631241Z",
     "iopub.status.busy": "2021-10-17T09:54:51.630764Z",
     "iopub.status.idle": "2021-10-17T09:54:51.645113Z",
     "shell.execute_reply": "2021-10-17T09:54:51.643626Z",
     "shell.execute_reply.started": "2021-10-17T09:54:51.631148Z"
    }
   },
   "outputs": [],
   "source": [
    "# This Python 3 environment comes with many helpful analytics libraries installed\n",
    "# It is defined by the kaggle/python Docker image: https://github.com/kaggle/docker-python\n",
    "# For example, here's several helpful packages to load\n",
    "\n",
    "import numpy as np # linear algebra\n",
    "import pandas as pd # data processing, CSV file I/O (e.g. pd.read_csv)\n",
    "\n",
    "# Input data files are available in the read-only \"../input/\" directory\n",
    "# For example, running this (by clicking run or pressing Shift+Enter) will list all files under the input directory\n",
    "\n",
    "import os\n",
    "for dirname, _, filenames in os.walk('/kaggle/input'):\n",
    "    for filename in filenames:\n",
    "        print(os.path.join(dirname, filename))\n",
    "\n",
    "# You can write up to 20GB to the current directory (/kaggle/working/) that gets preserved as output when you create a version using \"Save & Run All\" \n",
    "# You can also write temporary files to /kaggle/temp/, but they won't be saved outside of the current session"
   ]
  },
  {
   "cell_type": "code",
   "execution_count": 2,
   "metadata": {
    "execution": {
     "iopub.execute_input": "2021-10-17T09:54:51.648090Z",
     "iopub.status.busy": "2021-10-17T09:54:51.647730Z",
     "iopub.status.idle": "2021-10-17T09:54:51.670885Z",
     "shell.execute_reply": "2021-10-17T09:54:51.669730Z",
     "shell.execute_reply.started": "2021-10-17T09:54:51.648049Z"
    }
   },
   "outputs": [],
   "source": [
    "df = pd.read_csv('../input/insurance/insurance.csv')"
   ]
  },
  {
   "cell_type": "markdown",
   "metadata": {},
   "source": [
    "## Exploring Data\n",
    " "
   ]
  },
  {
   "cell_type": "code",
   "execution_count": 3,
   "metadata": {
    "execution": {
     "iopub.execute_input": "2021-10-17T09:54:51.673149Z",
     "iopub.status.busy": "2021-10-17T09:54:51.672715Z",
     "iopub.status.idle": "2021-10-17T09:54:51.709789Z",
     "shell.execute_reply": "2021-10-17T09:54:51.708895Z",
     "shell.execute_reply.started": "2021-10-17T09:54:51.673101Z"
    }
   },
   "outputs": [],
   "source": [
    "df.head()"
   ]
  },
  {
   "cell_type": "code",
   "execution_count": 4,
   "metadata": {
    "execution": {
     "iopub.execute_input": "2021-10-17T09:54:51.712315Z",
     "iopub.status.busy": "2021-10-17T09:54:51.712035Z",
     "iopub.status.idle": "2021-10-17T09:54:51.718073Z",
     "shell.execute_reply": "2021-10-17T09:54:51.717015Z",
     "shell.execute_reply.started": "2021-10-17T09:54:51.712288Z"
    }
   },
   "outputs": [],
   "source": [
    "df.shape"
   ]
  },
  {
   "cell_type": "code",
   "execution_count": 5,
   "metadata": {
    "execution": {
     "iopub.execute_input": "2021-10-17T09:54:51.719951Z",
     "iopub.status.busy": "2021-10-17T09:54:51.719559Z",
     "iopub.status.idle": "2021-10-17T09:54:51.732366Z",
     "shell.execute_reply": "2021-10-17T09:54:51.731520Z",
     "shell.execute_reply.started": "2021-10-17T09:54:51.719911Z"
    }
   },
   "outputs": [],
   "source": [
    "df.dtypes"
   ]
  },
  {
   "cell_type": "code",
   "execution_count": 6,
   "metadata": {
    "execution": {
     "iopub.execute_input": "2021-10-17T09:54:51.734084Z",
     "iopub.status.busy": "2021-10-17T09:54:51.733654Z",
     "iopub.status.idle": "2021-10-17T09:54:51.753090Z",
     "shell.execute_reply": "2021-10-17T09:54:51.751320Z",
     "shell.execute_reply.started": "2021-10-17T09:54:51.734051Z"
    }
   },
   "outputs": [],
   "source": [
    "df['region'].value_counts()"
   ]
  },
  {
   "cell_type": "code",
   "execution_count": 7,
   "metadata": {
    "execution": {
     "iopub.execute_input": "2021-10-17T09:54:51.755271Z",
     "iopub.status.busy": "2021-10-17T09:54:51.754581Z",
     "iopub.status.idle": "2021-10-17T09:54:51.765644Z",
     "shell.execute_reply": "2021-10-17T09:54:51.764154Z",
     "shell.execute_reply.started": "2021-10-17T09:54:51.755233Z"
    }
   },
   "outputs": [],
   "source": [
    "df.isnull().sum()"
   ]
  },
  {
   "cell_type": "code",
   "execution_count": 8,
   "metadata": {
    "execution": {
     "iopub.execute_input": "2021-10-17T09:54:51.768009Z",
     "iopub.status.busy": "2021-10-17T09:54:51.767256Z",
     "iopub.status.idle": "2021-10-17T09:54:52.704219Z",
     "shell.execute_reply": "2021-10-17T09:54:52.703314Z",
     "shell.execute_reply.started": "2021-10-17T09:54:51.767963Z"
    }
   },
   "outputs": [],
   "source": [
    "from sklearn import preprocessing\n",
    "le = preprocessing.LabelEncoder()\n",
    "df['sex'] = le.fit_transform(df['sex'])\n",
    "df['smoker'] = le.fit_transform(df['smoker'])\n",
    "df['region'] = le.fit_transform(df['region'])"
   ]
  },
  {
   "cell_type": "markdown",
   "metadata": {},
   "source": [
    "## Split Data"
   ]
  },
  {
   "cell_type": "code",
   "execution_count": 9,
   "metadata": {
    "execution": {
     "iopub.execute_input": "2021-10-17T09:54:52.706096Z",
     "iopub.status.busy": "2021-10-17T09:54:52.705636Z",
     "iopub.status.idle": "2021-10-17T09:54:52.711703Z",
     "shell.execute_reply": "2021-10-17T09:54:52.710803Z",
     "shell.execute_reply.started": "2021-10-17T09:54:52.706051Z"
    }
   },
   "outputs": [],
   "source": [
    "X = df.drop('charges',axis=1)\n",
    "y = df['charges']"
   ]
  },
  {
   "cell_type": "code",
   "execution_count": 10,
   "metadata": {
    "execution": {
     "iopub.execute_input": "2021-10-17T09:54:52.715215Z",
     "iopub.status.busy": "2021-10-17T09:54:52.714707Z",
     "iopub.status.idle": "2021-10-17T09:54:52.789829Z",
     "shell.execute_reply": "2021-10-17T09:54:52.788893Z",
     "shell.execute_reply.started": "2021-10-17T09:54:52.715160Z"
    }
   },
   "outputs": [],
   "source": [
    "from sklearn.model_selection import train_test_split\n",
    "X_train, X_test, y_train, y_test = train_test_split(X, y, test_size = 0.33, random_state = 42)"
   ]
  },
  {
   "cell_type": "code",
   "execution_count": 11,
   "metadata": {
    "execution": {
     "iopub.execute_input": "2021-10-17T09:54:52.792547Z",
     "iopub.status.busy": "2021-10-17T09:54:52.792046Z",
     "iopub.status.idle": "2021-10-17T09:54:54.300444Z",
     "shell.execute_reply": "2021-10-17T09:54:54.299277Z",
     "shell.execute_reply.started": "2021-10-17T09:54:52.792503Z"
    }
   },
   "outputs": [],
   "source": [
    "import seaborn as sns \n",
    "import matplotlib.pyplot as plt \n",
    "fig = plt.figure(figsize = (20,15))\n",
    "ax = fig.gca()\n",
    "df.hist(ax=ax)\n",
    "plt.show()"
   ]
  },
  {
   "cell_type": "code",
   "execution_count": 12,
   "metadata": {
    "execution": {
     "iopub.execute_input": "2021-10-17T09:54:54.302649Z",
     "iopub.status.busy": "2021-10-17T09:54:54.302195Z",
     "iopub.status.idle": "2021-10-17T09:54:54.575953Z",
     "shell.execute_reply": "2021-10-17T09:54:54.574630Z",
     "shell.execute_reply.started": "2021-10-17T09:54:54.302594Z"
    }
   },
   "outputs": [],
   "source": [
    "plt.figure(figsize=(12,10))\n",
    "ax = sns.heatmap(df.corr())"
   ]
  },
  {
   "cell_type": "code",
   "execution_count": 13,
   "metadata": {
    "execution": {
     "iopub.execute_input": "2021-10-17T09:54:54.577681Z",
     "iopub.status.busy": "2021-10-17T09:54:54.577342Z",
     "iopub.status.idle": "2021-10-17T09:54:54.845862Z",
     "shell.execute_reply": "2021-10-17T09:54:54.844757Z",
     "shell.execute_reply.started": "2021-10-17T09:54:54.577643Z"
    }
   },
   "outputs": [],
   "source": [
    "from yellowbrick.target import FeatureCorrelation\n",
    "\n",
    "feature_names = list(X.columns)"
   ]
  },
  {
   "cell_type": "code",
   "execution_count": 14,
   "metadata": {
    "execution": {
     "iopub.execute_input": "2021-10-17T09:54:54.848224Z",
     "iopub.status.busy": "2021-10-17T09:54:54.847794Z",
     "iopub.status.idle": "2021-10-17T09:54:55.055916Z",
     "shell.execute_reply": "2021-10-17T09:54:55.054923Z",
     "shell.execute_reply.started": "2021-10-17T09:54:54.848181Z"
    }
   },
   "outputs": [],
   "source": [
    "visualizer = FeatureCorrelation(labels = feature_names)\n",
    "\n",
    "visualizer.fit(X, y)\n",
    "\n",
    "visualizer.poof()"
   ]
  },
  {
   "cell_type": "markdown",
   "metadata": {},
   "source": [
    "### Show Outlier Data "
   ]
  },
  {
   "cell_type": "code",
   "execution_count": 15,
   "metadata": {
    "execution": {
     "iopub.execute_input": "2021-10-17T09:54:55.057593Z",
     "iopub.status.busy": "2021-10-17T09:54:55.057269Z",
     "iopub.status.idle": "2021-10-17T09:54:55.313705Z",
     "shell.execute_reply": "2021-10-17T09:54:55.312530Z",
     "shell.execute_reply.started": "2021-10-17T09:54:55.057562Z"
    }
   },
   "outputs": [],
   "source": [
    "boxplot = X.boxplot(figsize=(15, 12))"
   ]
  },
  {
   "cell_type": "code",
   "execution_count": 16,
   "metadata": {
    "execution": {
     "iopub.execute_input": "2021-10-17T09:54:55.315521Z",
     "iopub.status.busy": "2021-10-17T09:54:55.315180Z",
     "iopub.status.idle": "2021-10-17T09:54:55.353226Z",
     "shell.execute_reply": "2021-10-17T09:54:55.351867Z",
     "shell.execute_reply.started": "2021-10-17T09:54:55.315486Z"
    }
   },
   "outputs": [],
   "source": [
    "df.loc[df['bmi'] > 45]                                         "
   ]
  },
  {
   "cell_type": "code",
   "execution_count": 17,
   "metadata": {
    "execution": {
     "iopub.execute_input": "2021-10-17T09:54:55.355606Z",
     "iopub.status.busy": "2021-10-17T09:54:55.355148Z",
     "iopub.status.idle": "2021-10-17T09:54:55.362985Z",
     "shell.execute_reply": "2021-10-17T09:54:55.362191Z",
     "shell.execute_reply.started": "2021-10-17T09:54:55.355552Z"
    }
   },
   "outputs": [],
   "source": [
    "mean_bmi = X['bmi'].mean()\n",
    "mean_bmi"
   ]
  },
  {
   "cell_type": "code",
   "execution_count": 18,
   "metadata": {
    "execution": {
     "iopub.execute_input": "2021-10-17T09:54:55.364495Z",
     "iopub.status.busy": "2021-10-17T09:54:55.364062Z",
     "iopub.status.idle": "2021-10-17T09:54:55.455467Z",
     "shell.execute_reply": "2021-10-17T09:54:55.454633Z",
     "shell.execute_reply.started": "2021-10-17T09:54:55.364454Z"
    }
   },
   "outputs": [],
   "source": [
    "for index, row in X.iterrows():\n",
    "    \n",
    "    if row['bmi']  >46:\n",
    "        X.at[index, 'bmi'] = mean_bmi"
   ]
  },
  {
   "cell_type": "code",
   "execution_count": 19,
   "metadata": {
    "execution": {
     "iopub.execute_input": "2021-10-17T09:54:55.456986Z",
     "iopub.status.busy": "2021-10-17T09:54:55.456516Z",
     "iopub.status.idle": "2021-10-17T09:54:55.459955Z",
     "shell.execute_reply": "2021-10-17T09:54:55.459233Z",
     "shell.execute_reply.started": "2021-10-17T09:54:55.456955Z"
    }
   },
   "outputs": [],
   "source": [
    "# X[X['bmi'] > 45].bmi = mean_bmi"
   ]
  },
  {
   "cell_type": "code",
   "execution_count": 20,
   "metadata": {
    "execution": {
     "iopub.execute_input": "2021-10-17T09:54:55.461263Z",
     "iopub.status.busy": "2021-10-17T09:54:55.460890Z",
     "iopub.status.idle": "2021-10-17T09:54:55.717894Z",
     "shell.execute_reply": "2021-10-17T09:54:55.716701Z",
     "shell.execute_reply.started": "2021-10-17T09:54:55.461237Z"
    }
   },
   "outputs": [],
   "source": [
    "boxplot = X.boxplot(figsize=(15, 12))"
   ]
  },
  {
   "cell_type": "markdown",
   "metadata": {},
   "source": [
    "# Model 1 -> LinearRegression"
   ]
  },
  {
   "cell_type": "code",
   "execution_count": 21,
   "metadata": {
    "execution": {
     "iopub.execute_input": "2021-10-17T09:54:55.719349Z",
     "iopub.status.busy": "2021-10-17T09:54:55.719066Z",
     "iopub.status.idle": "2021-10-17T09:54:55.725538Z",
     "shell.execute_reply": "2021-10-17T09:54:55.724275Z",
     "shell.execute_reply.started": "2021-10-17T09:54:55.719323Z"
    }
   },
   "outputs": [],
   "source": [
    "from sklearn.linear_model import LinearRegression\n",
    "from sklearn.pipeline import make_pipeline\n",
    "from sklearn.preprocessing import StandardScaler\n",
    "model_1 = make_pipeline(StandardScaler(), LinearRegression())"
   ]
  },
  {
   "cell_type": "code",
   "execution_count": 22,
   "metadata": {
    "execution": {
     "iopub.execute_input": "2021-10-17T09:54:55.727096Z",
     "iopub.status.busy": "2021-10-17T09:54:55.726800Z",
     "iopub.status.idle": "2021-10-17T09:54:55.766893Z",
     "shell.execute_reply": "2021-10-17T09:54:55.765757Z",
     "shell.execute_reply.started": "2021-10-17T09:54:55.727068Z"
    }
   },
   "outputs": [],
   "source": [
    "model_1.fit(X_train,y_train)"
   ]
  },
  {
   "cell_type": "code",
   "execution_count": 23,
   "metadata": {
    "execution": {
     "iopub.execute_input": "2021-10-17T09:54:55.769274Z",
     "iopub.status.busy": "2021-10-17T09:54:55.768861Z",
     "iopub.status.idle": "2021-10-17T09:54:55.784218Z",
     "shell.execute_reply": "2021-10-17T09:54:55.782867Z",
     "shell.execute_reply.started": "2021-10-17T09:54:55.769228Z"
    }
   },
   "outputs": [],
   "source": [
    "model_1.score(X_test,y_test)"
   ]
  },
  {
   "cell_type": "code",
   "execution_count": 24,
   "metadata": {
    "execution": {
     "iopub.execute_input": "2021-10-17T09:54:55.787066Z",
     "iopub.status.busy": "2021-10-17T09:54:55.786567Z",
     "iopub.status.idle": "2021-10-17T09:54:55.802222Z",
     "shell.execute_reply": "2021-10-17T09:54:55.800532Z",
     "shell.execute_reply.started": "2021-10-17T09:54:55.787020Z"
    }
   },
   "outputs": [],
   "source": [
    "from sklearn.metrics import mean_absolute_error\n",
    "y_pred = model_1.predict(X_test)\n",
    "mean_absolute_error(y_test, y_pred)"
   ]
  },
  {
   "cell_type": "markdown",
   "metadata": {},
   "source": [
    "# Model 2 -> Lasso"
   ]
  },
  {
   "cell_type": "code",
   "execution_count": 25,
   "metadata": {
    "execution": {
     "iopub.execute_input": "2021-10-17T09:54:55.805184Z",
     "iopub.status.busy": "2021-10-17T09:54:55.804094Z",
     "iopub.status.idle": "2021-10-17T09:54:55.811188Z",
     "shell.execute_reply": "2021-10-17T09:54:55.810291Z",
     "shell.execute_reply.started": "2021-10-17T09:54:55.805134Z"
    }
   },
   "outputs": [],
   "source": [
    "from sklearn.linear_model import Lasso\n",
    "model_2 = make_pipeline(StandardScaler(), Lasso())"
   ]
  },
  {
   "cell_type": "code",
   "execution_count": 26,
   "metadata": {
    "execution": {
     "iopub.execute_input": "2021-10-17T09:54:55.814023Z",
     "iopub.status.busy": "2021-10-17T09:54:55.813103Z",
     "iopub.status.idle": "2021-10-17T09:54:55.838687Z",
     "shell.execute_reply": "2021-10-17T09:54:55.837663Z",
     "shell.execute_reply.started": "2021-10-17T09:54:55.813967Z"
    }
   },
   "outputs": [],
   "source": [
    "model_2.fit(X_train,y_train)"
   ]
  },
  {
   "cell_type": "code",
   "execution_count": 27,
   "metadata": {
    "execution": {
     "iopub.execute_input": "2021-10-17T09:54:55.840685Z",
     "iopub.status.busy": "2021-10-17T09:54:55.840242Z",
     "iopub.status.idle": "2021-10-17T09:54:55.848983Z",
     "shell.execute_reply": "2021-10-17T09:54:55.848171Z",
     "shell.execute_reply.started": "2021-10-17T09:54:55.840656Z"
    }
   },
   "outputs": [],
   "source": [
    "model_2.score(X_test,y_test)"
   ]
  },
  {
   "cell_type": "code",
   "execution_count": 28,
   "metadata": {
    "execution": {
     "iopub.execute_input": "2021-10-17T09:54:55.850310Z",
     "iopub.status.busy": "2021-10-17T09:54:55.849931Z",
     "iopub.status.idle": "2021-10-17T09:54:56.033838Z",
     "shell.execute_reply": "2021-10-17T09:54:56.032683Z",
     "shell.execute_reply.started": "2021-10-17T09:54:55.850283Z"
    }
   },
   "outputs": [],
   "source": [
    "y_pred = model_2.predict(X_test)\n",
    "mean_absolute_error(y_test, y_pred)"
   ]
  },
  {
   "cell_type": "markdown",
   "metadata": {},
   "source": [
    "#  Model 3 -> RandomForestRegressor"
   ]
  },
  {
   "cell_type": "code",
   "execution_count": 29,
   "metadata": {
    "execution": {
     "iopub.execute_input": "2021-10-17T09:54:56.036186Z",
     "iopub.status.busy": "2021-10-17T09:54:56.035754Z",
     "iopub.status.idle": "2021-10-17T09:54:56.102091Z",
     "shell.execute_reply": "2021-10-17T09:54:56.100666Z",
     "shell.execute_reply.started": "2021-10-17T09:54:56.036145Z"
    }
   },
   "outputs": [],
   "source": [
    "from sklearn.ensemble import RandomForestRegressor\n",
    "model_3 =make_pipeline(StandardScaler(), RandomForestRegressor()) "
   ]
  },
  {
   "cell_type": "code",
   "execution_count": 30,
   "metadata": {
    "execution": {
     "iopub.execute_input": "2021-10-17T09:54:56.104122Z",
     "iopub.status.busy": "2021-10-17T09:54:56.103675Z",
     "iopub.status.idle": "2021-10-17T09:54:56.437083Z",
     "shell.execute_reply": "2021-10-17T09:54:56.435686Z",
     "shell.execute_reply.started": "2021-10-17T09:54:56.104080Z"
    }
   },
   "outputs": [],
   "source": [
    "model_3.fit(X_train,y_train)"
   ]
  },
  {
   "cell_type": "code",
   "execution_count": 31,
   "metadata": {
    "execution": {
     "iopub.execute_input": "2021-10-17T09:54:56.438731Z",
     "iopub.status.busy": "2021-10-17T09:54:56.438394Z",
     "iopub.status.idle": "2021-10-17T09:54:56.466483Z",
     "shell.execute_reply": "2021-10-17T09:54:56.465359Z",
     "shell.execute_reply.started": "2021-10-17T09:54:56.438701Z"
    }
   },
   "outputs": [],
   "source": [
    "model_3.score(X_test,y_test)"
   ]
  },
  {
   "cell_type": "code",
   "execution_count": 32,
   "metadata": {
    "execution": {
     "iopub.execute_input": "2021-10-17T09:54:56.468225Z",
     "iopub.status.busy": "2021-10-17T09:54:56.467938Z",
     "iopub.status.idle": "2021-10-17T09:54:56.495466Z",
     "shell.execute_reply": "2021-10-17T09:54:56.494445Z",
     "shell.execute_reply.started": "2021-10-17T09:54:56.468197Z"
    }
   },
   "outputs": [],
   "source": [
    "y_pred = model_3.predict(X_test)\n",
    "mean_absolute_error(y_test, y_pred)"
   ]
  },
  {
   "cell_type": "code",
   "execution_count": null,
   "metadata": {},
   "outputs": [],
   "source": []
  }
 ],
 "metadata": {
  "kernelspec": {
   "display_name": "Python 3 (ipykernel)",
   "language": "python",
   "name": "python3"
  },
  "language_info": {
   "codemirror_mode": {
    "name": "ipython",
    "version": 3
   },
   "file_extension": ".py",
   "mimetype": "text/x-python",
   "name": "python",
   "nbconvert_exporter": "python",
   "pygments_lexer": "ipython3",
   "version": "3.9.13"
  }
 },
 "nbformat": 4,
 "nbformat_minor": 4
}
