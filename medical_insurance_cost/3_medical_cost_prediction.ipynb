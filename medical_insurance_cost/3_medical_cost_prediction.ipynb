{
 "cells": [
  {
   "cell_type": "code",
   "execution_count": 1,
   "id": "1e3db275",
   "metadata": {
    "executionInfo": {
     "elapsed": 1176,
     "status": "ok",
     "timestamp": 1679447052657,
     "user": {
      "displayName": "김은경",
      "userId": "01250867606085351919"
     },
     "user_tz": -540
    },
    "id": "1e3db275"
   },
   "outputs": [],
   "source": [
    "import numpy as np\n",
    "from glob import glob\n",
    "import pandas as pd\n",
    "import matplotlib.pyplot as plt\n",
    "import seaborn as sns\n",
    "import random\n",
    "import os\n",
    "\n",
    "import warnings\n",
    "warnings.filterwarnings('ignore')\n",
    "\n",
    "from sklearn.preprocessing import LabelEncoder"
   ]
  },
  {
   "cell_type": "code",
   "execution_count": 3,
   "id": "47564b8f",
   "metadata": {
    "colab": {
     "base_uri": "https://localhost:8080/"
    },
    "executionInfo": {
     "elapsed": 825,
     "status": "ok",
     "timestamp": 1679447136176,
     "user": {
      "displayName": "김은경",
      "userId": "01250867606085351919"
     },
     "user_tz": -540
    },
    "id": "47564b8f",
    "outputId": "50238c16-8344-40cc-dd75-a63705260836"
   },
   "outputs": [
    {
     "data": {
      "text/plain": [
       "['insurance.csv']"
      ]
     },
     "execution_count": 3,
     "metadata": {},
     "output_type": "execute_result"
    }
   ],
   "source": [
    "glob('*.csv')"
   ]
  },
  {
   "cell_type": "code",
   "execution_count": 4,
   "id": "ab904da3",
   "metadata": {
    "executionInfo": {
     "elapsed": 474,
     "status": "ok",
     "timestamp": 1679447144073,
     "user": {
      "displayName": "김은경",
      "userId": "01250867606085351919"
     },
     "user_tz": -540
    },
    "id": "ab904da3"
   },
   "outputs": [],
   "source": [
    "# Seed 고정\n",
    "\n",
    "def seed_everything(seed):\n",
    "    random.seed(seed)\n",
    "    os.environ['PYTHONHASHSEED'] = str(seed)\n",
    "    np.random.seed(seed)\n",
    "\n",
    "seed_everything(42)"
   ]
  },
  {
   "cell_type": "code",
   "execution_count": 5,
   "id": "5c06856f",
   "metadata": {
    "colab": {
     "base_uri": "https://localhost:8080/",
     "height": 206
    },
    "executionInfo": {
     "elapsed": 646,
     "status": "ok",
     "timestamp": 1679447149098,
     "user": {
      "displayName": "김은경",
      "userId": "01250867606085351919"
     },
     "user_tz": -540
    },
    "id": "5c06856f",
    "outputId": "697b1a98-e68e-472a-e244-ba0cb07ddad3"
   },
   "outputs": [
    {
     "data": {
      "text/html": [
       "\n",
       "  <div id=\"df-68de9ff9-83db-43e3-95ce-99d9c39c2226\">\n",
       "    <div class=\"colab-df-container\">\n",
       "      <div>\n",
       "<style scoped>\n",
       "    .dataframe tbody tr th:only-of-type {\n",
       "        vertical-align: middle;\n",
       "    }\n",
       "\n",
       "    .dataframe tbody tr th {\n",
       "        vertical-align: top;\n",
       "    }\n",
       "\n",
       "    .dataframe thead th {\n",
       "        text-align: right;\n",
       "    }\n",
       "</style>\n",
       "<table border=\"1\" class=\"dataframe\">\n",
       "  <thead>\n",
       "    <tr style=\"text-align: right;\">\n",
       "      <th></th>\n",
       "      <th>age</th>\n",
       "      <th>sex</th>\n",
       "      <th>bmi</th>\n",
       "      <th>children</th>\n",
       "      <th>smoker</th>\n",
       "      <th>region</th>\n",
       "      <th>charges</th>\n",
       "    </tr>\n",
       "  </thead>\n",
       "  <tbody>\n",
       "    <tr>\n",
       "      <th>0</th>\n",
       "      <td>19</td>\n",
       "      <td>female</td>\n",
       "      <td>27.900</td>\n",
       "      <td>0</td>\n",
       "      <td>yes</td>\n",
       "      <td>southwest</td>\n",
       "      <td>16884.92400</td>\n",
       "    </tr>\n",
       "    <tr>\n",
       "      <th>1</th>\n",
       "      <td>18</td>\n",
       "      <td>male</td>\n",
       "      <td>33.770</td>\n",
       "      <td>1</td>\n",
       "      <td>no</td>\n",
       "      <td>southeast</td>\n",
       "      <td>1725.55230</td>\n",
       "    </tr>\n",
       "    <tr>\n",
       "      <th>2</th>\n",
       "      <td>28</td>\n",
       "      <td>male</td>\n",
       "      <td>33.000</td>\n",
       "      <td>3</td>\n",
       "      <td>no</td>\n",
       "      <td>southeast</td>\n",
       "      <td>4449.46200</td>\n",
       "    </tr>\n",
       "    <tr>\n",
       "      <th>3</th>\n",
       "      <td>33</td>\n",
       "      <td>male</td>\n",
       "      <td>22.705</td>\n",
       "      <td>0</td>\n",
       "      <td>no</td>\n",
       "      <td>northwest</td>\n",
       "      <td>21984.47061</td>\n",
       "    </tr>\n",
       "    <tr>\n",
       "      <th>4</th>\n",
       "      <td>32</td>\n",
       "      <td>male</td>\n",
       "      <td>28.880</td>\n",
       "      <td>0</td>\n",
       "      <td>no</td>\n",
       "      <td>northwest</td>\n",
       "      <td>3866.85520</td>\n",
       "    </tr>\n",
       "  </tbody>\n",
       "</table>\n",
       "</div>\n",
       "      <button class=\"colab-df-convert\" onclick=\"convertToInteractive('df-68de9ff9-83db-43e3-95ce-99d9c39c2226')\"\n",
       "              title=\"Convert this dataframe to an interactive table.\"\n",
       "              style=\"display:none;\">\n",
       "        \n",
       "  <svg xmlns=\"http://www.w3.org/2000/svg\" height=\"24px\"viewBox=\"0 0 24 24\"\n",
       "       width=\"24px\">\n",
       "    <path d=\"M0 0h24v24H0V0z\" fill=\"none\"/>\n",
       "    <path d=\"M18.56 5.44l.94 2.06.94-2.06 2.06-.94-2.06-.94-.94-2.06-.94 2.06-2.06.94zm-11 1L8.5 8.5l.94-2.06 2.06-.94-2.06-.94L8.5 2.5l-.94 2.06-2.06.94zm10 10l.94 2.06.94-2.06 2.06-.94-2.06-.94-.94-2.06-.94 2.06-2.06.94z\"/><path d=\"M17.41 7.96l-1.37-1.37c-.4-.4-.92-.59-1.43-.59-.52 0-1.04.2-1.43.59L10.3 9.45l-7.72 7.72c-.78.78-.78 2.05 0 2.83L4 21.41c.39.39.9.59 1.41.59.51 0 1.02-.2 1.41-.59l7.78-7.78 2.81-2.81c.8-.78.8-2.07 0-2.86zM5.41 20L4 18.59l7.72-7.72 1.47 1.35L5.41 20z\"/>\n",
       "  </svg>\n",
       "      </button>\n",
       "      \n",
       "  <style>\n",
       "    .colab-df-container {\n",
       "      display:flex;\n",
       "      flex-wrap:wrap;\n",
       "      gap: 12px;\n",
       "    }\n",
       "\n",
       "    .colab-df-convert {\n",
       "      background-color: #E8F0FE;\n",
       "      border: none;\n",
       "      border-radius: 50%;\n",
       "      cursor: pointer;\n",
       "      display: none;\n",
       "      fill: #1967D2;\n",
       "      height: 32px;\n",
       "      padding: 0 0 0 0;\n",
       "      width: 32px;\n",
       "    }\n",
       "\n",
       "    .colab-df-convert:hover {\n",
       "      background-color: #E2EBFA;\n",
       "      box-shadow: 0px 1px 2px rgba(60, 64, 67, 0.3), 0px 1px 3px 1px rgba(60, 64, 67, 0.15);\n",
       "      fill: #174EA6;\n",
       "    }\n",
       "\n",
       "    [theme=dark] .colab-df-convert {\n",
       "      background-color: #3B4455;\n",
       "      fill: #D2E3FC;\n",
       "    }\n",
       "\n",
       "    [theme=dark] .colab-df-convert:hover {\n",
       "      background-color: #434B5C;\n",
       "      box-shadow: 0px 1px 3px 1px rgba(0, 0, 0, 0.15);\n",
       "      filter: drop-shadow(0px 1px 2px rgba(0, 0, 0, 0.3));\n",
       "      fill: #FFFFFF;\n",
       "    }\n",
       "  </style>\n",
       "\n",
       "      <script>\n",
       "        const buttonEl =\n",
       "          document.querySelector('#df-68de9ff9-83db-43e3-95ce-99d9c39c2226 button.colab-df-convert');\n",
       "        buttonEl.style.display =\n",
       "          google.colab.kernel.accessAllowed ? 'block' : 'none';\n",
       "\n",
       "        async function convertToInteractive(key) {\n",
       "          const element = document.querySelector('#df-68de9ff9-83db-43e3-95ce-99d9c39c2226');\n",
       "          const dataTable =\n",
       "            await google.colab.kernel.invokeFunction('convertToInteractive',\n",
       "                                                     [key], {});\n",
       "          if (!dataTable) return;\n",
       "\n",
       "          const docLinkHtml = 'Like what you see? Visit the ' +\n",
       "            '<a target=\"_blank\" href=https://colab.research.google.com/notebooks/data_table.ipynb>data table notebook</a>'\n",
       "            + ' to learn more about interactive tables.';\n",
       "          element.innerHTML = '';\n",
       "          dataTable['output_type'] = 'display_data';\n",
       "          await google.colab.output.renderOutput(dataTable, element);\n",
       "          const docLink = document.createElement('div');\n",
       "          docLink.innerHTML = docLinkHtml;\n",
       "          element.appendChild(docLink);\n",
       "        }\n",
       "      </script>\n",
       "    </div>\n",
       "  </div>\n",
       "  "
      ],
      "text/plain": [
       "   age     sex     bmi  children smoker     region      charges\n",
       "0   19  female  27.900         0    yes  southwest  16884.92400\n",
       "1   18    male  33.770         1     no  southeast   1725.55230\n",
       "2   28    male  33.000         3     no  southeast   4449.46200\n",
       "3   33    male  22.705         0     no  northwest  21984.47061\n",
       "4   32    male  28.880         0     no  northwest   3866.85520"
      ]
     },
     "execution_count": 5,
     "metadata": {},
     "output_type": "execute_result"
    }
   ],
   "source": [
    "data = pd.read_csv('insurance.csv',encoding='utf-8')\n",
    "data.head()"
   ]
  },
  {
   "cell_type": "code",
   "execution_count": 6,
   "id": "4f6290cf",
   "metadata": {
    "colab": {
     "base_uri": "https://localhost:8080/"
    },
    "executionInfo": {
     "elapsed": 470,
     "status": "ok",
     "timestamp": 1679447153182,
     "user": {
      "displayName": "김은경",
      "userId": "01250867606085351919"
     },
     "user_tz": -540
    },
    "id": "4f6290cf",
    "outputId": "1f9d510a-0f2d-403c-ed2f-fd8a4b3414fe"
   },
   "outputs": [
    {
     "data": {
      "text/plain": [
       "age         0\n",
       "sex         0\n",
       "bmi         0\n",
       "children    0\n",
       "smoker      0\n",
       "region      0\n",
       "charges     0\n",
       "dtype: int64"
      ]
     },
     "execution_count": 6,
     "metadata": {},
     "output_type": "execute_result"
    }
   ],
   "source": [
    "# Null Check\n",
    "\n",
    "data.isnull().sum()"
   ]
  },
  {
   "cell_type": "markdown",
   "id": "903f3b45",
   "metadata": {
    "id": "903f3b45"
   },
   "source": [
    "- Not Null"
   ]
  },
  {
   "cell_type": "code",
   "execution_count": 7,
   "id": "47154d36",
   "metadata": {
    "executionInfo": {
     "elapsed": 636,
     "status": "ok",
     "timestamp": 1679447158272,
     "user": {
      "displayName": "김은경",
      "userId": "01250867606085351919"
     },
     "user_tz": -540
    },
    "id": "47154d36"
   },
   "outputs": [],
   "source": [
    "#sex\n",
    "le = LabelEncoder()\n",
    "le.fit(data.sex.drop_duplicates()) \n",
    "data.sex = le.transform(data.sex)\n",
    "# smoker or not\n",
    "le.fit(data.smoker.drop_duplicates()) \n",
    "data.smoker = le.transform(data.smoker)\n",
    "#region\n",
    "le.fit(data.region.drop_duplicates()) \n",
    "data.region = le.transform(data.region)"
   ]
  },
  {
   "cell_type": "code",
   "execution_count": 8,
   "id": "f3d8c774",
   "metadata": {
    "colab": {
     "base_uri": "https://localhost:8080/"
    },
    "executionInfo": {
     "elapsed": 5,
     "status": "ok",
     "timestamp": 1679447168314,
     "user": {
      "displayName": "김은경",
      "userId": "01250867606085351919"
     },
     "user_tz": -540
    },
    "id": "f3d8c774",
    "outputId": "6283b1f8-d150-4276-809b-e5719203a417"
   },
   "outputs": [
    {
     "data": {
      "text/plain": [
       "region     -0.006208\n",
       "sex         0.057292\n",
       "children    0.067998\n",
       "bmi         0.198341\n",
       "age         0.299008\n",
       "smoker      0.787251\n",
       "charges     1.000000\n",
       "Name: charges, dtype: float64"
      ]
     },
     "execution_count": 8,
     "metadata": {},
     "output_type": "execute_result"
    }
   ],
   "source": [
    "data.corr()['charges'].sort_values()"
   ]
  },
  {
   "cell_type": "code",
   "execution_count": 9,
   "id": "84c760d1",
   "metadata": {
    "colab": {
     "base_uri": "https://localhost:8080/",
     "height": 506
    },
    "executionInfo": {
     "elapsed": 612,
     "status": "ok",
     "timestamp": 1679447179455,
     "user": {
      "displayName": "김은경",
      "userId": "01250867606085351919"
     },
     "user_tz": -540
    },
    "id": "84c760d1",
    "outputId": "4b180372-06b1-4265-f8bf-4b6da93ad5df"
   },
   "outputs": [
    {
     "data": {
      "text/plain": [
       "<Axes: >"
      ]
     },
     "execution_count": 9,
     "metadata": {},
     "output_type": "execute_result"
    },
    {
     "data": {
      "image/png": "[encoded data removed]",
      "text/plain": [
       "<Figure size 720x576 with 2 Axes>"
      ]
     },
     "metadata": {
      "needs_background": "light"
     },
     "output_type": "display_data"
    }
   ],
   "source": [
    "f, ax = plt.subplots(figsize=(10, 8))\n",
    "corr = data.corr()\n",
    "sns.heatmap(corr, mask=np.zeros_like(corr, dtype=np.bool), cmap=sns.diverging_palette(240,10,as_cmap=True),\n",
    "            square=True, ax=ax)"
   ]
  },
  {
   "cell_type": "markdown",
   "id": "b97061c8",
   "metadata": {
    "id": "b97061c8"
   },
   "source": [
    "## corr 높은 순으로 분석"
   ]
  },
  {
   "cell_type": "code",
   "execution_count": 10,
   "id": "5231d655",
   "metadata": {
    "colab": {
     "base_uri": "https://localhost:8080/",
     "height": 423
    },
    "executionInfo": {
     "elapsed": 515,
     "status": "ok",
     "timestamp": 1679447186114,
     "user": {
      "displayName": "김은경",
      "userId": "01250867606085351919"
     },
     "user_tz": -540
    },
    "id": "5231d655",
    "outputId": "22f3872a-cb6b-4b70-d6f1-b3510aea409b"
   },
   "outputs": [
    {
     "data": {
      "text/html": [
       "\n",
       "  <div id=\"df-abf5bcc1-98a6-420b-a4d8-de3a73017ccd\">\n",
       "    <div class=\"colab-df-container\">\n",
       "      <div>\n",
       "<style scoped>\n",
       "    .dataframe tbody tr th:only-of-type {\n",
       "        vertical-align: middle;\n",
       "    }\n",
       "\n",
       "    .dataframe tbody tr th {\n",
       "        vertical-align: top;\n",
       "    }\n",
       "\n",
       "    .dataframe thead th {\n",
       "        text-align: right;\n",
       "    }\n",
       "</style>\n",
       "<table border=\"1\" class=\"dataframe\">\n",
       "  <thead>\n",
       "    <tr style=\"text-align: right;\">\n",
       "      <th></th>\n",
       "      <th>age</th>\n",
       "      <th>sex</th>\n",
       "      <th>bmi</th>\n",
       "      <th>children</th>\n",
       "      <th>smoker</th>\n",
       "      <th>region</th>\n",
       "      <th>charges</th>\n",
       "    </tr>\n",
       "  </thead>\n",
       "  <tbody>\n",
       "    <tr>\n",
       "      <th>0</th>\n",
       "      <td>19</td>\n",
       "      <td>0</td>\n",
       "      <td>27.900</td>\n",
       "      <td>0</td>\n",
       "      <td>1</td>\n",
       "      <td>3</td>\n",
       "      <td>16884.92400</td>\n",
       "    </tr>\n",
       "    <tr>\n",
       "      <th>1</th>\n",
       "      <td>18</td>\n",
       "      <td>1</td>\n",
       "      <td>33.770</td>\n",
       "      <td>1</td>\n",
       "      <td>0</td>\n",
       "      <td>2</td>\n",
       "      <td>1725.55230</td>\n",
       "    </tr>\n",
       "    <tr>\n",
       "      <th>2</th>\n",
       "      <td>28</td>\n",
       "      <td>1</td>\n",
       "      <td>33.000</td>\n",
       "      <td>3</td>\n",
       "      <td>0</td>\n",
       "      <td>2</td>\n",
       "      <td>4449.46200</td>\n",
       "    </tr>\n",
       "    <tr>\n",
       "      <th>3</th>\n",
       "      <td>33</td>\n",
       "      <td>1</td>\n",
       "      <td>22.705</td>\n",
       "      <td>0</td>\n",
       "      <td>0</td>\n",
       "      <td>1</td>\n",
       "      <td>21984.47061</td>\n",
       "    </tr>\n",
       "    <tr>\n",
       "      <th>4</th>\n",
       "      <td>32</td>\n",
       "      <td>1</td>\n",
       "      <td>28.880</td>\n",
       "      <td>0</td>\n",
       "      <td>0</td>\n",
       "      <td>1</td>\n",
       "      <td>3866.85520</td>\n",
       "    </tr>\n",
       "    <tr>\n",
       "      <th>...</th>\n",
       "      <td>...</td>\n",
       "      <td>...</td>\n",
       "      <td>...</td>\n",
       "      <td>...</td>\n",
       "      <td>...</td>\n",
       "      <td>...</td>\n",
       "      <td>...</td>\n",
       "    </tr>\n",
       "    <tr>\n",
       "      <th>1333</th>\n",
       "      <td>50</td>\n",
       "      <td>1</td>\n",
       "      <td>30.970</td>\n",
       "      <td>3</td>\n",
       "      <td>0</td>\n",
       "      <td>1</td>\n",
       "      <td>10600.54830</td>\n",
       "    </tr>\n",
       "    <tr>\n",
       "      <th>1334</th>\n",
       "      <td>18</td>\n",
       "      <td>0</td>\n",
       "      <td>31.920</td>\n",
       "      <td>0</td>\n",
       "      <td>0</td>\n",
       "      <td>0</td>\n",
       "      <td>2205.98080</td>\n",
       "    </tr>\n",
       "    <tr>\n",
       "      <th>1335</th>\n",
       "      <td>18</td>\n",
       "      <td>0</td>\n",
       "      <td>36.850</td>\n",
       "      <td>0</td>\n",
       "      <td>0</td>\n",
       "      <td>2</td>\n",
       "      <td>1629.83350</td>\n",
       "    </tr>\n",
       "    <tr>\n",
       "      <th>1336</th>\n",
       "      <td>21</td>\n",
       "      <td>0</td>\n",
       "      <td>25.800</td>\n",
       "      <td>0</td>\n",
       "      <td>0</td>\n",
       "      <td>3</td>\n",
       "      <td>2007.94500</td>\n",
       "    </tr>\n",
       "    <tr>\n",
       "      <th>1337</th>\n",
       "      <td>61</td>\n",
       "      <td>0</td>\n",
       "      <td>29.070</td>\n",
       "      <td>0</td>\n",
       "      <td>1</td>\n",
       "      <td>1</td>\n",
       "      <td>29141.36030</td>\n",
       "    </tr>\n",
       "  </tbody>\n",
       "</table>\n",
       "<p>1338 rows × 7 columns</p>\n",
       "</div>\n",
       "      <button class=\"colab-df-convert\" onclick=\"convertToInteractive('df-abf5bcc1-98a6-420b-a4d8-de3a73017ccd')\"\n",
       "              title=\"Convert this dataframe to an interactive table.\"\n",
       "              style=\"display:none;\">\n",
       "        \n",
       "  <svg xmlns=\"http://www.w3.org/2000/svg\" height=\"24px\"viewBox=\"0 0 24 24\"\n",
       "       width=\"24px\">\n",
       "    <path d=\"M0 0h24v24H0V0z\" fill=\"none\"/>\n",
       "    <path d=\"M18.56 5.44l.94 2.06.94-2.06 2.06-.94-2.06-.94-.94-2.06-.94 2.06-2.06.94zm-11 1L8.5 8.5l.94-2.06 2.06-.94-2.06-.94L8.5 2.5l-.94 2.06-2.06.94zm10 10l.94 2.06.94-2.06 2.06-.94-2.06-.94-.94-2.06-.94 2.06-2.06.94z\"/><path d=\"M17.41 7.96l-1.37-1.37c-.4-.4-.92-.59-1.43-.59-.52 0-1.04.2-1.43.59L10.3 9.45l-7.72 7.72c-.78.78-.78 2.05 0 2.83L4 21.41c.39.39.9.59 1.41.59.51 0 1.02-.2 1.41-.59l7.78-7.78 2.81-2.81c.8-.78.8-2.07 0-2.86zM5.41 20L4 18.59l7.72-7.72 1.47 1.35L5.41 20z\"/>\n",
       "  </svg>\n",
       "      </button>\n",
       "      \n",
       "  <style>\n",
       "    .colab-df-container {\n",
       "      display:flex;\n",
       "      flex-wrap:wrap;\n",
       "      gap: 12px;\n",
       "    }\n",
       "\n",
       "    .colab-df-convert {\n",
       "      background-color: #E8F0FE;\n",
       "      border: none;\n",
       "      border-radius: 50%;\n",
       "      cursor: pointer;\n",
       "      display: none;\n",
       "      fill: #1967D2;\n",
       "      height: 32px;\n",
       "      padding: 0 0 0 0;\n",
       "      width: 32px;\n",
       "    }\n",
       "\n",
       "    .colab-df-convert:hover {\n",
       "      background-color: #E2EBFA;\n",
       "      box-shadow: 0px 1px 2px rgba(60, 64, 67, 0.3), 0px 1px 3px 1px rgba(60, 64, 67, 0.15);\n",
       "      fill: #174EA6;\n",
       "    }\n",
       "\n",
       "    [theme=dark] .colab-df-convert {\n",
       "      background-color: #3B4455;\n",
       "      fill: #D2E3FC;\n",
       "    }\n",
       "\n",
       "    [theme=dark] .colab-df-convert:hover {\n",
       "      background-color: #434B5C;\n",
       "      box-shadow: 0px 1px 3px 1px rgba(0, 0, 0, 0.15);\n",
       "      filter: drop-shadow(0px 1px 2px rgba(0, 0, 0, 0.3));\n",
       "      fill: #FFFFFF;\n",
       "    }\n",
       "  </style>\n",
       "\n",
       "      <script>\n",
       "        const buttonEl =\n",
       "          document.querySelector('#df-abf5bcc1-98a6-420b-a4d8-de3a73017ccd button.colab-df-convert');\n",
       "        buttonEl.style.display =\n",
       "          google.colab.kernel.accessAllowed ? 'block' : 'none';\n",
       "\n",
       "        async function convertToInteractive(key) {\n",
       "          const element = document.querySelector('#df-abf5bcc1-98a6-420b-a4d8-de3a73017ccd');\n",
       "          const dataTable =\n",
       "            await google.colab.kernel.invokeFunction('convertToInteractive',\n",
       "                                                     [key], {});\n",
       "          if (!dataTable) return;\n",
       "\n",
       "          const docLinkHtml = 'Like what you see? Visit the ' +\n",
       "            '<a target=\"_blank\" href=https://colab.research.google.com/notebooks/data_table.ipynb>data table notebook</a>'\n",
       "            + ' to learn more about interactive tables.';\n",
       "          element.innerHTML = '';\n",
       "          dataTable['output_type'] = 'display_data';\n",
       "          await google.colab.output.renderOutput(dataTable, element);\n",
       "          const docLink = document.createElement('div');\n",
       "          docLink.innerHTML = docLinkHtml;\n",
       "          element.appendChild(docLink);\n",
       "        }\n",
       "      </script>\n",
       "    </div>\n",
       "  </div>\n",
       "  "
      ],
      "text/plain": [
       "      age  sex     bmi  children  smoker  region      charges\n",
       "0      19    0  27.900         0       1       3  16884.92400\n",
       "1      18    1  33.770         1       0       2   1725.55230\n",
       "2      28    1  33.000         3       0       2   4449.46200\n",
       "3      33    1  22.705         0       0       1  21984.47061\n",
       "4      32    1  28.880         0       0       1   3866.85520\n",
       "...   ...  ...     ...       ...     ...     ...          ...\n",
       "1333   50    1  30.970         3       0       1  10600.54830\n",
       "1334   18    0  31.920         0       0       0   2205.98080\n",
       "1335   18    0  36.850         0       0       2   1629.83350\n",
       "1336   21    0  25.800         0       0       3   2007.94500\n",
       "1337   61    0  29.070         0       1       1  29141.36030\n",
       "\n",
       "[1338 rows x 7 columns]"
      ]
     },
     "execution_count": 10,
     "metadata": {},
     "output_type": "execute_result"
    }
   ],
   "source": [
    "data"
   ]
  },
  {
   "cell_type": "code",
   "execution_count": 11,
   "id": "ce383cac",
   "metadata": {
    "colab": {
     "base_uri": "https://localhost:8080/",
     "height": 340
    },
    "executionInfo": {
     "elapsed": 1557,
     "status": "ok",
     "timestamp": 1679447193564,
     "user": {
      "displayName": "김은경",
      "userId": "01250867606085351919"
     },
     "user_tz": -540
    },
    "id": "ce383cac",
    "outputId": "e8124010-bd61-4b1d-d184-5c61197a3cc9"
   },
   "outputs": [
    {
     "data": {
      "text/plain": [
       "(array([ 30., 127., 234., 319., 288., 195.,  96.,  32.,  14.,   3.]),\n",
       " array([15.96 , 19.677, 23.394, 27.111, 30.828, 34.545, 38.262, 41.979,\n",
       "        45.696, 49.413, 53.13 ]),\n",
       " <BarContainer object of 10 artists>)"
      ]
     },
     "execution_count": 11,
     "metadata": {},
     "output_type": "execute_result"
    },
    {
     "data": {
      "image/png": "[encoded data removed]",
      "text/plain": [
       "<Figure size 432x288 with 4 Axes>"
      ]
     },
     "metadata": {
      "needs_background": "light"
     },
     "output_type": "display_data"
    }
   ],
   "source": [
    "fig, axes = plt.subplots(2,2)\n",
    "axes[0,0].hist(data['charges'])\n",
    "axes[0,1].hist(data['smoker'])\n",
    "axes[1,0].hist(data['age'])\n",
    "axes[1,1].hist(data['bmi'])"
   ]
  },
  {
   "cell_type": "code",
   "execution_count": null,
   "id": "a31949e7",
   "metadata": {
    "id": "a31949e7"
   },
   "outputs": [],
   "source": [
    "def eda(col1 : str, col2 : str):\n",
    "    data.groupby([col2, col1])[['charges']].mean()\n",
    "    smoker_grouped = data.groupby([col1, col2])\n",
    "    smoker_group_mean_charges = smoker_grouped['charges'].mean().unstack()\n",
    "    smoker_group_mean_charges.plot(kind='bar')\n",
    "    plt.xlabel(col1)\n",
    "    plt.ylabel('Mean Charges')\n",
    "    plt.title(f'Mean Medical Charges by {col1} Group and {col2} Status')\n",
    "    plt.show()"
   ]
  },
  {
   "cell_type": "code",
   "execution_count": null,
   "id": "7c35a92f",
   "metadata": {
    "id": "7c35a92f",
    "outputId": "3407f572-b34e-41da-cf48-aade97972ba3"
   },
   "outputs": [
    {
     "data": {
      "image/png": "[encoded data removed]",
      "text/plain": [
       "<Figure size 640x480 with 1 Axes>"
      ]
     },
     "metadata": {},
     "output_type": "display_data"
    }
   ],
   "source": [
    "eda('sex','smoker')"
   ]
  },
  {
   "cell_type": "code",
   "execution_count": null,
   "id": "f76b25d1",
   "metadata": {
    "id": "f76b25d1"
   },
   "outputs": [],
   "source": [
    "# 흡연 여부에 따른 연령대의 진료비 청구금액 평균 비교를 위해 연령대 그룹화\n",
    "\n",
    "data['age_group'] = pd.cut(data['age'], bins=[0, 19, 29, 39, 49, 59, np.inf], labels=['10s', '20s', '30s', '40s', '50s', '60s+'])"
   ]
  },
  {
   "cell_type": "code",
   "execution_count": null,
   "id": "4ce587e0",
   "metadata": {
    "id": "4ce587e0",
    "outputId": "755f2579-15b1-4a12-8f3b-46b65f01894b"
   },
   "outputs": [
    {
     "data": {
      "image/png": "[encoded data removed]",
      "text/plain": [
       "<Figure size 640x480 with 1 Axes>"
      ]
     },
     "metadata": {},
     "output_type": "display_data"
    }
   ],
   "source": [
    "eda('age_group','smoker')"
   ]
  },
  {
   "cell_type": "code",
   "execution_count": null,
   "id": "9956baea",
   "metadata": {
    "id": "9956baea"
   },
   "outputs": [],
   "source": [
    "# 흡연 여부에 따른 BMI별 의료비 청구금액의 평균을 구하기 위해 BMI그룹화\n",
    "\n",
    "bins = [0, 18.5, 25, 30, 35, 40, np.inf]\n",
    "labels = ['Underweight', 'Normal', 'Overweight', 'Obese I', 'Obese II', 'Obese III']\n",
    "data['bmi_group'] = pd.cut(data['bmi'], bins=bins, labels=labels)"
   ]
  },
  {
   "cell_type": "code",
   "execution_count": null,
   "id": "ef1fbc06",
   "metadata": {
    "id": "ef1fbc06",
    "outputId": "4886317c-7dba-487e-f7f3-b0d477fc0b73"
   },
   "outputs": [
    {
     "data": {
      "image/png": "[encoded data removed]",
      "text/plain": [
       "<Figure size 640x480 with 1 Axes>"
      ]
     },
     "metadata": {},
     "output_type": "display_data"
    }
   ],
   "source": [
    "eda('bmi_group','smoker')"
   ]
  },
  {
   "cell_type": "code",
   "execution_count": null,
   "id": "c8f4f664",
   "metadata": {
    "id": "c8f4f664",
    "outputId": "9129cd99-efd8-4ff4-db6d-4c0de185742c"
   },
   "outputs": [
    {
     "data": {
      "image/png": "[encoded data removed]",
      "text/plain": [
       "<Figure size 640x480 with 1 Axes>"
      ]
     },
     "metadata": {},
     "output_type": "display_data"
    }
   ],
   "source": [
    "eda('children','smoker')"
   ]
  },
  {
   "cell_type": "code",
   "execution_count": null,
   "id": "261fdf0a",
   "metadata": {
    "id": "261fdf0a",
    "outputId": "e7c1b9c3-3f56-4b3a-a5db-09d5a255664e"
   },
   "outputs": [
    {
     "data": {
      "image/png": "[encoded data removed]",
      "text/plain": [
       "<Figure size 640x480 with 1 Axes>"
      ]
     },
     "metadata": {},
     "output_type": "display_data"
    }
   ],
   "source": [
    "eda('region','smoker')"
   ]
  },
  {
   "cell_type": "code",
   "execution_count": null,
   "id": "df7833b6",
   "metadata": {
    "id": "df7833b6",
    "outputId": "cd866136-fb77-4928-ee6a-66ca1c9e8129"
   },
   "outputs": [
    {
     "data": {
      "image/png": "[encoded data removed]",
      "text/plain": [
       "<Figure size 640x480 with 1 Axes>"
      ]
     },
     "metadata": {},
     "output_type": "display_data"
    }
   ],
   "source": [
    "eda('smoker','sex')"
   ]
  },
  {
   "cell_type": "code",
   "execution_count": null,
   "id": "b4d32f4a",
   "metadata": {
    "id": "b4d32f4a",
    "outputId": "f8237675-c01b-4846-ce0e-55d163bf7ff0"
   },
   "outputs": [
    {
     "data": {
      "image/png": "[encoded data removed]",
      "text/plain": [
       "<Figure size 640x480 with 1 Axes>"
      ]
     },
     "metadata": {},
     "output_type": "display_data"
    }
   ],
   "source": [
    "eda('age_group','sex')"
   ]
  },
  {
   "cell_type": "code",
   "execution_count": null,
   "id": "09a6ddb4",
   "metadata": {
    "id": "09a6ddb4",
    "outputId": "6c6bfc5b-e440-4c23-8e2f-34f6e06e8d00"
   },
   "outputs": [
    {
     "data": {
      "image/png": "[encoded data removed]",
      "text/plain": [
       "<Figure size 640x480 with 1 Axes>"
      ]
     },
     "metadata": {},
     "output_type": "display_data"
    }
   ],
   "source": [
    "eda('bmi_group','sex')"
   ]
  },
  {
   "cell_type": "markdown",
   "id": "30e37f5f",
   "metadata": {
    "id": "30e37f5f"
   },
   "source": [
    "### Outlier Detection"
   ]
  },
  {
   "cell_type": "code",
   "execution_count": null,
   "id": "e27d22bf",
   "metadata": {
    "id": "e27d22bf",
    "outputId": "2032245d-2a41-4a1d-c02a-f3687af4a215"
   },
   "outputs": [
    {
     "data": {
      "text/plain": [
       "<AxesSubplot: ylabel='charges'>"
      ]
     },
     "execution_count": 83,
     "metadata": {},
     "output_type": "execute_result"
    },
    {
     "data": {
      "image/png": "[encoded data removed]",
      "text/plain": [
       "<Figure size 640x480 with 4 Axes>"
      ]
     },
     "metadata": {},
     "output_type": "display_data"
    }
   ],
   "source": [
    "# 이상치 탐지를 위해 boxplot을 그려보겠습니다.\n",
    "plt.subplot(1,4,1)\n",
    "sns.boxplot(data=data, y='age')\n",
    "plt.subplot(1,4,2)\n",
    "sns.boxplot(data=data, y='children')\n",
    "plt.subplot(1,4,3)\n",
    "sns.boxplot(data=data, y='bmi')\n",
    "plt.subplot(1,4,4)\n",
    "sns.boxplot(data=data, y='charges')"
   ]
  },
  {
   "cell_type": "code",
   "execution_count": null,
   "id": "6c1a934b",
   "metadata": {
    "id": "6c1a934b",
    "outputId": "ed189922-74e2-4843-d12d-b414bf821cfe"
   },
   "outputs": [
    {
     "data": {
      "text/plain": [
       "116     49.06\n",
       "286     48.07\n",
       "401     47.52\n",
       "543     47.41\n",
       "847     50.38\n",
       "860     47.60\n",
       "1047    52.58\n",
       "1088    47.74\n",
       "1317    53.13\n",
       "Name: bmi, dtype: float64"
      ]
     },
     "execution_count": 84,
     "metadata": {},
     "output_type": "execute_result"
    }
   ],
   "source": [
    "# IQR(Q3 - Q1)로부터 이상치 파악하기\n",
    "bmi_q1 = data['bmi'].quantile(q=0.25)\n",
    "bmi_q3 = data['bmi'].quantile(q=0.75)\n",
    "iqr = bmi_q3 - bmi_q1\n",
    "\n",
    "# (q1 - (iqr * 1.5))와 (q3 + (iqr * 1.5))를 벗어난 값이 이상치입니다.\n",
    "condi1 = (data['bmi'] < (bmi_q1 - (1.5 * iqr)))\n",
    "condi2 = (data['bmi'] > (bmi_q3 + (1.5 * iqr)))\n",
    "outliers = data[condi1 | condi2]\n",
    "outliers['bmi']"
   ]
  },
  {
   "cell_type": "code",
   "execution_count": null,
   "id": "37e74379",
   "metadata": {
    "id": "37e74379"
   },
   "outputs": [],
   "source": []
  },
  {
   "cell_type": "code",
   "execution_count": null,
   "id": "04310e70",
   "metadata": {
    "id": "04310e70",
    "outputId": "5068cffd-b5ea-4f04-fd20-73663ffa2680"
   },
   "outputs": [
    {
     "data": {
      "text/plain": [
       "<AxesSubplot: xlabel='charges', ylabel='Count'>"
      ]
     },
     "execution_count": 156,
     "metadata": {},
     "output_type": "execute_result"
    },
    {
     "data": {
      "image/png": "[encoded data removed]",
      "text/plain": [
       "<Figure size 640x480 with 1 Axes>"
      ]
     },
     "metadata": {},
     "output_type": "display_data"
    }
   ],
   "source": [
    "# 진료비 금액의 count barplot\n",
    "\n",
    "sns.histplot(np.log(data.charges), kde=True)"
   ]
  },
  {
   "cell_type": "code",
   "execution_count": null,
   "id": "1652209d",
   "metadata": {
    "id": "1652209d",
    "outputId": "abbbe7f3-8ebe-46bd-d038-2f7b4673256b"
   },
   "outputs": [
    {
     "data": {
      "text/plain": [
       "<AxesSubplot: xlabel='charges', ylabel='Count'>"
      ]
     },
     "execution_count": 158,
     "metadata": {},
     "output_type": "execute_result"
    },
    {
     "data": {
      "image/png": "[encoded data removed]",
      "text/plain": [
       "<Figure size 640x480 with 1 Axes>"
      ]
     },
     "metadata": {},
     "output_type": "display_data"
    }
   ],
   "source": [
    "sns.histplot(data.charges, kde=True)"
   ]
  },
  {
   "cell_type": "code",
   "execution_count": null,
   "id": "f6c64d27",
   "metadata": {
    "id": "f6c64d27"
   },
   "outputs": [],
   "source": [
    "# resampling\n",
    "\n",
    "from sklearn.utils import resample\n",
    "\n",
    "results_median = []\n",
    "results_mean = []"
   ]
  },
  {
   "cell_type": "code",
   "execution_count": null,
   "id": "c244ae2c",
   "metadata": {
    "id": "c244ae2c"
   },
   "outputs": [],
   "source": [
    "# 중앙값을 resampling 하여 리스트에 append\n",
    "\n",
    "for nrepeat in range(1000):\n",
    "    sample = resample(data['charges'])\n",
    "    results_median.append(sample.median())"
   ]
  },
  {
   "cell_type": "code",
   "execution_count": null,
   "id": "1d38ee70",
   "metadata": {
    "id": "1d38ee70"
   },
   "outputs": [],
   "source": [
    "# 평균값을 resampling 하여 리스트에 append\n",
    "\n",
    "for nrepeat in range(1000):\n",
    "    sample = resample(data['charges'])\n",
    "    results_mean.append(sample.mean())"
   ]
  },
  {
   "cell_type": "code",
   "execution_count": null,
   "id": "f89602f2",
   "metadata": {
    "id": "f89602f2"
   },
   "outputs": [],
   "source": [
    "# 각각의 list를 Series 형태로 변환\n",
    "\n",
    "results_median = pd.Series(results_median)\n",
    "results_mean = pd.Series(results_mean)"
   ]
  },
  {
   "cell_type": "code",
   "execution_count": null,
   "id": "6bcd1a0e",
   "metadata": {
    "id": "6bcd1a0e",
    "outputId": "4cf35809-e384-40f4-c097-522d7179a7f7"
   },
   "outputs": [
    {
     "data": {
      "text/plain": [
       "<AxesSubplot: ylabel='Count'>"
      ]
     },
     "execution_count": 92,
     "metadata": {},
     "output_type": "execute_result"
    },
    {
     "data": {
      "image/png": "[encoded data removed]",
      "text/plain": [
       "<Figure size 640x480 with 1 Axes>"
      ]
     },
     "metadata": {},
     "output_type": "display_data"
    }
   ],
   "source": [
    "# resampling한 중앙값 데이터를 시각화\n",
    "\n",
    "sns.histplot(results_median, kde=True)"
   ]
  },
  {
   "cell_type": "code",
   "execution_count": null,
   "id": "06a01842",
   "metadata": {
    "id": "06a01842"
   },
   "outputs": [],
   "source": [
    "# 범주형 변수와 수치형 변수를 분리\n",
    "\n",
    "cat_features = data.select_dtypes(include=['object']).columns.to_list()\n",
    "num_features = data.select_dtypes(exclude=['object']).columns.to_list()"
   ]
  },
  {
   "cell_type": "code",
   "execution_count": null,
   "id": "58c10b3e",
   "metadata": {
    "id": "58c10b3e",
    "outputId": "663d4005-537c-4d56-f922-d272d89ab49a"
   },
   "outputs": [
    {
     "data": {
      "text/plain": [
       "Index(['age', 'sex', 'bmi', 'children', 'smoker', 'region', 'charges',\n",
       "       'age_group', 'bmi_group'],\n",
       "      dtype='object')"
      ]
     },
     "execution_count": 101,
     "metadata": {},
     "output_type": "execute_result"
    }
   ],
   "source": [
    "data.columns"
   ]
  },
  {
   "cell_type": "code",
   "execution_count": null,
   "id": "9952035a",
   "metadata": {
    "id": "9952035a",
    "outputId": "655c1176-885c-4a72-b0ac-7dbf19f4dc0d"
   },
   "outputs": [
    {
     "data": {
      "text/html": [
       "<div>\n",
       "<style scoped>\n",
       "    .dataframe tbody tr th:only-of-type {\n",
       "        vertical-align: middle;\n",
       "    }\n",
       "\n",
       "    .dataframe tbody tr th {\n",
       "        vertical-align: top;\n",
       "    }\n",
       "\n",
       "    .dataframe thead th {\n",
       "        text-align: right;\n",
       "    }\n",
       "</style>\n",
       "<table border=\"1\" class=\"dataframe\">\n",
       "  <thead>\n",
       "    <tr style=\"text-align: right;\">\n",
       "      <th></th>\n",
       "      <th>age</th>\n",
       "      <th>sex</th>\n",
       "      <th>bmi</th>\n",
       "      <th>children</th>\n",
       "      <th>smoker</th>\n",
       "      <th>region</th>\n",
       "      <th>charges</th>\n",
       "      <th>age_group</th>\n",
       "      <th>bmi_group</th>\n",
       "    </tr>\n",
       "  </thead>\n",
       "  <tbody>\n",
       "    <tr>\n",
       "      <th>0</th>\n",
       "      <td>19</td>\n",
       "      <td>0</td>\n",
       "      <td>27.900</td>\n",
       "      <td>0</td>\n",
       "      <td>1</td>\n",
       "      <td>3</td>\n",
       "      <td>16884.92400</td>\n",
       "      <td>10s</td>\n",
       "      <td>Overweight</td>\n",
       "    </tr>\n",
       "    <tr>\n",
       "      <th>1</th>\n",
       "      <td>18</td>\n",
       "      <td>1</td>\n",
       "      <td>33.770</td>\n",
       "      <td>1</td>\n",
       "      <td>0</td>\n",
       "      <td>2</td>\n",
       "      <td>1725.55230</td>\n",
       "      <td>10s</td>\n",
       "      <td>Obese I</td>\n",
       "    </tr>\n",
       "    <tr>\n",
       "      <th>2</th>\n",
       "      <td>28</td>\n",
       "      <td>1</td>\n",
       "      <td>33.000</td>\n",
       "      <td>3</td>\n",
       "      <td>0</td>\n",
       "      <td>2</td>\n",
       "      <td>4449.46200</td>\n",
       "      <td>20s</td>\n",
       "      <td>Obese I</td>\n",
       "    </tr>\n",
       "    <tr>\n",
       "      <th>3</th>\n",
       "      <td>33</td>\n",
       "      <td>1</td>\n",
       "      <td>22.705</td>\n",
       "      <td>0</td>\n",
       "      <td>0</td>\n",
       "      <td>1</td>\n",
       "      <td>21984.47061</td>\n",
       "      <td>30s</td>\n",
       "      <td>Normal</td>\n",
       "    </tr>\n",
       "    <tr>\n",
       "      <th>4</th>\n",
       "      <td>32</td>\n",
       "      <td>1</td>\n",
       "      <td>28.880</td>\n",
       "      <td>0</td>\n",
       "      <td>0</td>\n",
       "      <td>1</td>\n",
       "      <td>3866.85520</td>\n",
       "      <td>30s</td>\n",
       "      <td>Overweight</td>\n",
       "    </tr>\n",
       "  </tbody>\n",
       "</table>\n",
       "</div>"
      ],
      "text/plain": [
       "   age  sex     bmi  children  smoker  region      charges age_group  \\\n",
       "0   19    0  27.900         0       1       3  16884.92400       10s   \n",
       "1   18    1  33.770         1       0       2   1725.55230       10s   \n",
       "2   28    1  33.000         3       0       2   4449.46200       20s   \n",
       "3   33    1  22.705         0       0       1  21984.47061       30s   \n",
       "4   32    1  28.880         0       0       1   3866.85520       30s   \n",
       "\n",
       "    bmi_group  \n",
       "0  Overweight  \n",
       "1     Obese I  \n",
       "2     Obese I  \n",
       "3      Normal  \n",
       "4  Overweight  "
      ]
     },
     "execution_count": 125,
     "metadata": {},
     "output_type": "execute_result"
    }
   ],
   "source": [
    "data.head()"
   ]
  },
  {
   "cell_type": "code",
   "execution_count": null,
   "id": "2837db5c",
   "metadata": {
    "id": "2837db5c",
    "outputId": "ee410d54-3a13-40d1-eff8-0ef65965bde6"
   },
   "outputs": [
    {
     "name": "stdout",
     "output_type": "stream",
     "text": [
      "<class 'pandas.core.frame.DataFrame'>\n",
      "RangeIndex: 1338 entries, 0 to 1337\n",
      "Data columns (total 6 columns):\n",
      " #   Column    Non-Null Count  Dtype  \n",
      "---  ------    --------------  -----  \n",
      " 0   age       1338 non-null   int64  \n",
      " 1   sex       1338 non-null   int64  \n",
      " 2   bmi       1338 non-null   float64\n",
      " 3   children  1338 non-null   int64  \n",
      " 4   smoker    1338 non-null   int64  \n",
      " 5   charges   1338 non-null   float64\n",
      "dtypes: float64(2), int64(4)\n",
      "memory usage: 62.8 KB\n"
     ]
    }
   ],
   "source": [
    "data.info()"
   ]
  },
  {
   "cell_type": "code",
   "execution_count": null,
   "id": "1de2c978",
   "metadata": {
    "id": "1de2c978"
   },
   "outputs": [],
   "source": [
    "data = data.drop(['age_group','bmi_group','region','sex','smoker'],axis=1)"
   ]
  },
  {
   "cell_type": "code",
   "execution_count": null,
   "id": "015ca865",
   "metadata": {
    "id": "015ca865"
   },
   "outputs": [],
   "source": [
    "x = data.drop(['charges'],axis=1)\n",
    "\n",
    "y = data['charges']"
   ]
  },
  {
   "cell_type": "code",
   "execution_count": null,
   "id": "7288b092",
   "metadata": {
    "id": "7288b092"
   },
   "outputs": [],
   "source": [
    "from sklearn.model_selection import train_test_split\n",
    "from sklearn.linear_model import LinearRegression\n",
    "from sklearn.linear_model import Ridge\n",
    "from sklearn.linear_model import Lasso\n",
    "from sklearn.linear_model import ElasticNet\n",
    "from sklearn.tree import DecisionTreeRegressor\n",
    "from sklearn.ensemble import RandomForestRegressor\n",
    "from sklearn.ensemble import GradientBoostingRegressor\n",
    "from sklearn.svm import SVR\n",
    "from sklearn.neighbors import KNeighborsRegressor\n",
    "from sklearn.neural_network import MLPRegressor\n",
    "\n",
    "\n",
    "from sklearn.metrics import mean_absolute_error, mean_squared_error, r2_score"
   ]
  },
  {
   "cell_type": "code",
   "execution_count": null,
   "id": "24541b6b",
   "metadata": {
    "id": "24541b6b"
   },
   "outputs": [],
   "source": [
    "X_train, X_dev, y_train, y_dev = train_test_split(x,y, test_size=0.2)"
   ]
  },
  {
   "cell_type": "code",
   "execution_count": null,
   "id": "fb29d845",
   "metadata": {
    "id": "fb29d845"
   },
   "outputs": [],
   "source": [
    "models = [\n",
    "    LinearRegression(),\n",
    "    Ridge(),\n",
    "    Lasso(),\n",
    "    ElasticNet(),\n",
    "    DecisionTreeRegressor(),\n",
    "    RandomForestRegressor(),\n",
    "    SVR(),\n",
    "    KNeighborsRegressor(),\n",
    "    MLPRegressor()    \n",
    "]"
   ]
  },
  {
   "cell_type": "code",
   "execution_count": null,
   "id": "f607d931",
   "metadata": {
    "id": "f607d931"
   },
   "outputs": [],
   "source": []
  },
  {
   "cell_type": "code",
   "execution_count": null,
   "id": "cb0649c5",
   "metadata": {
    "id": "cb0649c5",
    "outputId": "5db7236f-e1d0-4fda-d876-522fa72254e7",
    "scrolled": true
   },
   "outputs": [
    {
     "name": "stdout",
     "output_type": "stream",
     "text": [
      "Model LinearRegression - MAE: 4577.4768\n",
      "Model Ridge - MAE: 4583.8766\n",
      "Model Lasso - MAE: 4577.7436\n",
      "Model ElasticNet - MAE: 7210.3008\n",
      "Model DecisionTreeRegressor - MAE: 2918.4322\n",
      "Model RandomForestRegressor - MAE: 3102.2015\n",
      "Model SVR - MAE: 6757.8300\n",
      "Model KNeighborsRegressor - MAE: 7657.7429\n",
      "Model MLPRegressor - MAE: 7272.1786\n"
     ]
    }
   ],
   "source": [
    "lst = []\n",
    "for model in models:\n",
    "    name = model.__class__.__name__\n",
    "    model.fit(X_train,y_train)\n",
    "    y_pred = model.predict(X_dev)\n",
    "    mae = mean_absolute_error(y_dev, y_pred)\n",
    "    print(\"Model %s - MAE: %.4f\" %(name,mae))\n",
    "    lst.append([model,mae])"
   ]
  },
  {
   "cell_type": "code",
   "execution_count": null,
   "id": "0a8f53a4",
   "metadata": {
    "id": "0a8f53a4",
    "outputId": "12077778-835e-4b31-80c9-489bbfef82d2"
   },
   "outputs": [
    {
     "data": {
      "text/plain": [
       "Index(['age', 'sex', 'bmi', 'children', 'smoker', 'region', 'charges',\n",
       "       'age_group', 'bmi_group'],\n",
       "      dtype='object')"
      ]
     },
     "execution_count": 60,
     "metadata": {},
     "output_type": "execute_result"
    }
   ],
   "source": [
    "data.columns"
   ]
  },
  {
   "cell_type": "code",
   "execution_count": null,
   "id": "ff1cead4",
   "metadata": {
    "id": "ff1cead4",
    "outputId": "3da038fd-5421-4761-9a86-a169a123c975"
   },
   "outputs": [
    {
     "data": {
      "text/html": [
       "<div>\n",
       "<style scoped>\n",
       "    .dataframe tbody tr th:only-of-type {\n",
       "        vertical-align: middle;\n",
       "    }\n",
       "\n",
       "    .dataframe tbody tr th {\n",
       "        vertical-align: top;\n",
       "    }\n",
       "\n",
       "    .dataframe thead th {\n",
       "        text-align: right;\n",
       "    }\n",
       "</style>\n",
       "<table border=\"1\" class=\"dataframe\">\n",
       "  <thead>\n",
       "    <tr style=\"text-align: right;\">\n",
       "      <th></th>\n",
       "      <th>age</th>\n",
       "      <th>sex</th>\n",
       "      <th>bmi</th>\n",
       "      <th>children</th>\n",
       "      <th>smoker</th>\n",
       "      <th>region</th>\n",
       "      <th>charges</th>\n",
       "    </tr>\n",
       "  </thead>\n",
       "  <tbody>\n",
       "    <tr>\n",
       "      <th>0</th>\n",
       "      <td>19</td>\n",
       "      <td>female</td>\n",
       "      <td>27.900</td>\n",
       "      <td>0</td>\n",
       "      <td>yes</td>\n",
       "      <td>southwest</td>\n",
       "      <td>16884.92400</td>\n",
       "    </tr>\n",
       "    <tr>\n",
       "      <th>1</th>\n",
       "      <td>18</td>\n",
       "      <td>male</td>\n",
       "      <td>33.770</td>\n",
       "      <td>1</td>\n",
       "      <td>no</td>\n",
       "      <td>southeast</td>\n",
       "      <td>1725.55230</td>\n",
       "    </tr>\n",
       "    <tr>\n",
       "      <th>2</th>\n",
       "      <td>28</td>\n",
       "      <td>male</td>\n",
       "      <td>33.000</td>\n",
       "      <td>3</td>\n",
       "      <td>no</td>\n",
       "      <td>southeast</td>\n",
       "      <td>4449.46200</td>\n",
       "    </tr>\n",
       "    <tr>\n",
       "      <th>3</th>\n",
       "      <td>33</td>\n",
       "      <td>male</td>\n",
       "      <td>22.705</td>\n",
       "      <td>0</td>\n",
       "      <td>no</td>\n",
       "      <td>northwest</td>\n",
       "      <td>21984.47061</td>\n",
       "    </tr>\n",
       "    <tr>\n",
       "      <th>4</th>\n",
       "      <td>32</td>\n",
       "      <td>male</td>\n",
       "      <td>28.880</td>\n",
       "      <td>0</td>\n",
       "      <td>no</td>\n",
       "      <td>northwest</td>\n",
       "      <td>3866.85520</td>\n",
       "    </tr>\n",
       "  </tbody>\n",
       "</table>\n",
       "</div>"
      ],
      "text/plain": [
       "   age     sex     bmi  children smoker     region      charges\n",
       "0   19  female  27.900         0    yes  southwest  16884.92400\n",
       "1   18    male  33.770         1     no  southeast   1725.55230\n",
       "2   28    male  33.000         3     no  southeast   4449.46200\n",
       "3   33    male  22.705         0     no  northwest  21984.47061\n",
       "4   32    male  28.880         0     no  northwest   3866.85520"
      ]
     },
     "execution_count": 169,
     "metadata": {},
     "output_type": "execute_result"
    }
   ],
   "source": [
    "data = pd.read_csv('insurance.csv',encoding='utf-8')\n",
    "data.head()"
   ]
  },
  {
   "cell_type": "code",
   "execution_count": null,
   "id": "7fd190b1",
   "metadata": {
    "id": "7fd190b1"
   },
   "outputs": [],
   "source": [
    "# 흡연 여부에 따른 연령대의 진료비 청구금액 평균 비교를 위해 연령대 그룹화\n",
    "\n",
    "data['age_group'] = pd.cut(data['age'], bins=[0, 19, 29, 39, 49, 59, np.inf], labels=['10s', '20s', '30s', '40s', '50s', '60s+'])"
   ]
  },
  {
   "cell_type": "code",
   "execution_count": null,
   "id": "e7c9afb7",
   "metadata": {
    "id": "e7c9afb7"
   },
   "outputs": [],
   "source": [
    "bins = [0, 18.5, 25, 30, 35, 40, np.inf]\n",
    "labels = ['Underweight', 'Normal', 'Overweight', 'Obese I', 'Obese II', 'Obese III']\n",
    "data['bmi_group'] = pd.cut(data['bmi'], bins=bins, labels=labels)"
   ]
  },
  {
   "cell_type": "code",
   "execution_count": null,
   "id": "0c13750b",
   "metadata": {
    "id": "0c13750b"
   },
   "outputs": [],
   "source": [
    "from sklearn.preprocessing import OneHotEncoder\n",
    "\n",
    "ohe = OneHotEncoder(sparse=False)"
   ]
  },
  {
   "cell_type": "code",
   "execution_count": null,
   "id": "f4cfd3b9",
   "metadata": {
    "id": "f4cfd3b9"
   },
   "outputs": [],
   "source": [
    "def one_hot_encoded(df):\n",
    "    ohe.fit(df.values.reshape(-1,1))\n",
    "    one_hot_encoded = ohe.transform(df.values.reshape(-1,1))\n",
    "    ohe_df = pd.DataFrame(one_hot_encoded, columns=ohe.categories_[0])\n",
    "    return ohe_df"
   ]
  },
  {
   "cell_type": "code",
   "execution_count": null,
   "id": "79fe03ae",
   "metadata": {
    "id": "79fe03ae"
   },
   "outputs": [],
   "source": [
    "ohe_df = one_hot_encoded(data['sex'])\n",
    "data = pd.concat([data,ohe_df],axis=1)\n",
    "\n",
    "# column rename\n",
    "data.rename(columns={0:'male',1:'female'},inplace=True)"
   ]
  },
  {
   "cell_type": "code",
   "execution_count": null,
   "id": "262444c1",
   "metadata": {
    "id": "262444c1"
   },
   "outputs": [],
   "source": [
    "ohe_df = one_hot_encoded(data['smoker'])\n",
    "data = pd.concat([data,ohe_df],axis=1)\n",
    "\n",
    "# column rename\n",
    "data.rename(columns={0:'Non-smoke',1:'smoker'},inplace=True)"
   ]
  },
  {
   "cell_type": "code",
   "execution_count": null,
   "id": "166440f9",
   "metadata": {
    "id": "166440f9"
   },
   "outputs": [],
   "source": [
    "ohe_df = one_hot_encoded(data['region'])\n",
    "data = pd.concat([data,ohe_df],axis=1)\n",
    "\n",
    "# column rename\n",
    "data.rename(columns={0:'southwest',1:'southeast',\n",
    "                     2:'northwest',3:'northeast'},inplace=True)"
   ]
  },
  {
   "cell_type": "code",
   "execution_count": null,
   "id": "beef8463",
   "metadata": {
    "id": "beef8463"
   },
   "outputs": [],
   "source": [
    "ohe_df = one_hot_encoded(data['bmi_group'])\n",
    "data = pd.concat([data,ohe_df],axis=1)\n",
    "\n",
    "# column rename\n",
    "data.rename(columns={0:'Overweight',1:'Obese I',2:'Normal',\n",
    "                     3:'Obese II',4:'Obese III',5:'Underweight'},inplace=True)"
   ]
  },
  {
   "cell_type": "code",
   "execution_count": null,
   "id": "d78e5640",
   "metadata": {
    "id": "d78e5640"
   },
   "outputs": [],
   "source": [
    "ohe_df = one_hot_encoded(data['age_group'])\n",
    "data = pd.concat([data,ohe_df],axis=1)\n",
    "\n",
    "# column rename\n",
    "data.rename(columns={0:'10s',1:'20s',\n",
    "                     2:'30s',3:'40s',\n",
    "                     4:'60s+',5:'50s'},inplace=True)"
   ]
  },
  {
   "cell_type": "code",
   "execution_count": null,
   "id": "fde03d14",
   "metadata": {
    "id": "fde03d14",
    "outputId": "25021781-f674-40da-a0f5-b2247cb0e52e"
   },
   "outputs": [
    {
     "data": {
      "text/plain": [
       "['Overweight', 'Obese I', 'Normal', 'Obese II', 'Obese III', 'Underweight']\n",
       "Categories (6, object): ['Underweight' < 'Normal' < 'Overweight' < 'Obese I' < 'Obese II' < 'Obese III']"
      ]
     },
     "execution_count": 185,
     "metadata": {},
     "output_type": "execute_result"
    }
   ],
   "source": [
    "data.bmi_group.unique()"
   ]
  },
  {
   "cell_type": "code",
   "execution_count": null,
   "id": "019f8d58",
   "metadata": {
    "id": "019f8d58",
    "outputId": "6b57b76f-fe70-4af4-bb07-a7cf4d4deb46",
    "scrolled": true
   },
   "outputs": [
    {
     "data": {
      "text/html": [
       "<div>\n",
       "<style scoped>\n",
       "    .dataframe tbody tr th:only-of-type {\n",
       "        vertical-align: middle;\n",
       "    }\n",
       "\n",
       "    .dataframe tbody tr th {\n",
       "        vertical-align: top;\n",
       "    }\n",
       "\n",
       "    .dataframe thead th {\n",
       "        text-align: right;\n",
       "    }\n",
       "</style>\n",
       "<table border=\"1\" class=\"dataframe\">\n",
       "  <thead>\n",
       "    <tr style=\"text-align: right;\">\n",
       "      <th></th>\n",
       "      <th>age</th>\n",
       "      <th>bmi</th>\n",
       "      <th>children</th>\n",
       "      <th>charges</th>\n",
       "      <th>female</th>\n",
       "      <th>male</th>\n",
       "      <th>no</th>\n",
       "      <th>yes</th>\n",
       "      <th>northeast</th>\n",
       "      <th>northwest</th>\n",
       "      <th>...</th>\n",
       "      <th>Obese II</th>\n",
       "      <th>Obese III</th>\n",
       "      <th>Overweight</th>\n",
       "      <th>Underweight</th>\n",
       "      <th>10s</th>\n",
       "      <th>20s</th>\n",
       "      <th>30s</th>\n",
       "      <th>40s</th>\n",
       "      <th>50s</th>\n",
       "      <th>60s+</th>\n",
       "    </tr>\n",
       "  </thead>\n",
       "  <tbody>\n",
       "    <tr>\n",
       "      <th>0</th>\n",
       "      <td>19</td>\n",
       "      <td>27.900</td>\n",
       "      <td>0</td>\n",
       "      <td>16884.92400</td>\n",
       "      <td>1.0</td>\n",
       "      <td>0.0</td>\n",
       "      <td>0.0</td>\n",
       "      <td>1.0</td>\n",
       "      <td>0.0</td>\n",
       "      <td>0.0</td>\n",
       "      <td>...</td>\n",
       "      <td>0.0</td>\n",
       "      <td>0.0</td>\n",
       "      <td>1.0</td>\n",
       "      <td>0.0</td>\n",
       "      <td>1.0</td>\n",
       "      <td>0.0</td>\n",
       "      <td>0.0</td>\n",
       "      <td>0.0</td>\n",
       "      <td>0.0</td>\n",
       "      <td>0.0</td>\n",
       "    </tr>\n",
       "    <tr>\n",
       "      <th>1</th>\n",
       "      <td>18</td>\n",
       "      <td>33.770</td>\n",
       "      <td>1</td>\n",
       "      <td>1725.55230</td>\n",
       "      <td>0.0</td>\n",
       "      <td>1.0</td>\n",
       "      <td>1.0</td>\n",
       "      <td>0.0</td>\n",
       "      <td>0.0</td>\n",
       "      <td>0.0</td>\n",
       "      <td>...</td>\n",
       "      <td>0.0</td>\n",
       "      <td>0.0</td>\n",
       "      <td>0.0</td>\n",
       "      <td>0.0</td>\n",
       "      <td>1.0</td>\n",
       "      <td>0.0</td>\n",
       "      <td>0.0</td>\n",
       "      <td>0.0</td>\n",
       "      <td>0.0</td>\n",
       "      <td>0.0</td>\n",
       "    </tr>\n",
       "    <tr>\n",
       "      <th>2</th>\n",
       "      <td>28</td>\n",
       "      <td>33.000</td>\n",
       "      <td>3</td>\n",
       "      <td>4449.46200</td>\n",
       "      <td>0.0</td>\n",
       "      <td>1.0</td>\n",
       "      <td>1.0</td>\n",
       "      <td>0.0</td>\n",
       "      <td>0.0</td>\n",
       "      <td>0.0</td>\n",
       "      <td>...</td>\n",
       "      <td>0.0</td>\n",
       "      <td>0.0</td>\n",
       "      <td>0.0</td>\n",
       "      <td>0.0</td>\n",
       "      <td>0.0</td>\n",
       "      <td>1.0</td>\n",
       "      <td>0.0</td>\n",
       "      <td>0.0</td>\n",
       "      <td>0.0</td>\n",
       "      <td>0.0</td>\n",
       "    </tr>\n",
       "    <tr>\n",
       "      <th>3</th>\n",
       "      <td>33</td>\n",
       "      <td>22.705</td>\n",
       "      <td>0</td>\n",
       "      <td>21984.47061</td>\n",
       "      <td>0.0</td>\n",
       "      <td>1.0</td>\n",
       "      <td>1.0</td>\n",
       "      <td>0.0</td>\n",
       "      <td>0.0</td>\n",
       "      <td>1.0</td>\n",
       "      <td>...</td>\n",
       "      <td>0.0</td>\n",
       "      <td>0.0</td>\n",
       "      <td>0.0</td>\n",
       "      <td>0.0</td>\n",
       "      <td>0.0</td>\n",
       "      <td>0.0</td>\n",
       "      <td>1.0</td>\n",
       "      <td>0.0</td>\n",
       "      <td>0.0</td>\n",
       "      <td>0.0</td>\n",
       "    </tr>\n",
       "    <tr>\n",
       "      <th>4</th>\n",
       "      <td>32</td>\n",
       "      <td>28.880</td>\n",
       "      <td>0</td>\n",
       "      <td>3866.85520</td>\n",
       "      <td>0.0</td>\n",
       "      <td>1.0</td>\n",
       "      <td>1.0</td>\n",
       "      <td>0.0</td>\n",
       "      <td>0.0</td>\n",
       "      <td>1.0</td>\n",
       "      <td>...</td>\n",
       "      <td>0.0</td>\n",
       "      <td>0.0</td>\n",
       "      <td>1.0</td>\n",
       "      <td>0.0</td>\n",
       "      <td>0.0</td>\n",
       "      <td>0.0</td>\n",
       "      <td>1.0</td>\n",
       "      <td>0.0</td>\n",
       "      <td>0.0</td>\n",
       "      <td>0.0</td>\n",
       "    </tr>\n",
       "  </tbody>\n",
       "</table>\n",
       "<p>5 rows × 24 columns</p>\n",
       "</div>"
      ],
      "text/plain": [
       "   age     bmi  children      charges  female  male   no  yes  northeast  \\\n",
       "0   19  27.900         0  16884.92400     1.0   0.0  0.0  1.0        0.0   \n",
       "1   18  33.770         1   1725.55230     0.0   1.0  1.0  0.0        0.0   \n",
       "2   28  33.000         3   4449.46200     0.0   1.0  1.0  0.0        0.0   \n",
       "3   33  22.705         0  21984.47061     0.0   1.0  1.0  0.0        0.0   \n",
       "4   32  28.880         0   3866.85520     0.0   1.0  1.0  0.0        0.0   \n",
       "\n",
       "   northwest  ...  Obese II  Obese III  Overweight  Underweight  10s  20s  \\\n",
       "0        0.0  ...       0.0        0.0         1.0          0.0  1.0  0.0   \n",
       "1        0.0  ...       0.0        0.0         0.0          0.0  1.0  0.0   \n",
       "2        0.0  ...       0.0        0.0         0.0          0.0  0.0  1.0   \n",
       "3        1.0  ...       0.0        0.0         0.0          0.0  0.0  0.0   \n",
       "4        1.0  ...       0.0        0.0         1.0          0.0  0.0  0.0   \n",
       "\n",
       "   30s  40s  50s  60s+  \n",
       "0  0.0  0.0  0.0   0.0  \n",
       "1  0.0  0.0  0.0   0.0  \n",
       "2  0.0  0.0  0.0   0.0  \n",
       "3  1.0  0.0  0.0   0.0  \n",
       "4  1.0  0.0  0.0   0.0  \n",
       "\n",
       "[5 rows x 24 columns]"
      ]
     },
     "execution_count": 188,
     "metadata": {},
     "output_type": "execute_result"
    }
   ],
   "source": [
    "data = data.drop(['age_group','bmi_group','region','sex','smoker'],axis=1)\n",
    "data.head()"
   ]
  },
  {
   "cell_type": "code",
   "execution_count": null,
   "id": "faf5df0a",
   "metadata": {
    "id": "faf5df0a"
   },
   "outputs": [],
   "source": [
    "x = data.drop(['charges'],axis=1)\n",
    "\n",
    "y = data['charges']"
   ]
  },
  {
   "cell_type": "code",
   "execution_count": null,
   "id": "156ae216",
   "metadata": {
    "id": "156ae216"
   },
   "outputs": [],
   "source": [
    "X_train, X_dev, y_train, y_dev = train_test_split(x,y, test_size=0.2)"
   ]
  },
  {
   "cell_type": "code",
   "execution_count": null,
   "id": "1e2fcb04",
   "metadata": {
    "id": "1e2fcb04"
   },
   "outputs": [],
   "source": [
    "models = [\n",
    "    LinearRegression(),\n",
    "    Ridge(),\n",
    "    Lasso(),\n",
    "    ElasticNet(),\n",
    "    DecisionTreeRegressor(),\n",
    "    RandomForestRegressor(),\n",
    "    SVR(),\n",
    "    KNeighborsRegressor(),\n",
    "    MLPRegressor()    \n",
    "]"
   ]
  },
  {
   "cell_type": "code",
   "execution_count": null,
   "id": "4fc6fa03",
   "metadata": {
    "id": "4fc6fa03",
    "outputId": "6e5a2d2f-97a4-4f4b-df2e-aca85ea5f951"
   },
   "outputs": [
    {
     "name": "stdout",
     "output_type": "stream",
     "text": [
      "Model LinearRegression - MAE: 4434.6445\n",
      "Model Ridge - MAE: 4430.3974\n",
      "Model Lasso - MAE: 4431.4051\n",
      "Model ElasticNet - MAE: 6061.8594\n",
      "Model DecisionTreeRegressor - MAE: 3203.7152\n",
      "Model RandomForestRegressor - MAE: 2869.8130\n",
      "Model SVR - MAE: 8070.3666\n",
      "Model KNeighborsRegressor - MAE: 6867.1731\n",
      "Model MLPRegressor - MAE: 7577.1840\n"
     ]
    }
   ],
   "source": [
    "lst = []\n",
    "for model in models:\n",
    "    name = model.__class__.__name__\n",
    "    model.fit(X_train,y_train)\n",
    "    y_pred = model.predict(X_dev)\n",
    "    mae = mean_absolute_error(y_dev, y_pred)\n",
    "    print(\"Model %s - MAE: %.4f\" %(name,mae))\n",
    "    lst.append([model,mae])"
   ]
  },
  {
   "cell_type": "code",
   "execution_count": null,
   "id": "5fbd2b67",
   "metadata": {
    "id": "5fbd2b67"
   },
   "outputs": [],
   "source": [
    "import pycaret"
   ]
  },
  {
   "cell_type": "code",
   "execution_count": null,
   "id": "3dd5ffe9",
   "metadata": {
    "id": "3dd5ffe9",
    "outputId": "8e3276f9-c864-4ad8-e403-d3f908eb7cce"
   },
   "outputs": [
    {
     "data": {
      "text/html": [
       "<style type=\"text/css\">\n",
       "#T_37a58_row8_col1 {\n",
       "  background-color: lightgreen;\n",
       "}\n",
       "</style>\n",
       "<table id=\"T_37a58\">\n",
       "  <thead>\n",
       "    <tr>\n",
       "      <th class=\"blank level0\" >&nbsp;</th>\n",
       "      <th id=\"T_37a58_level0_col0\" class=\"col_heading level0 col0\" >Description</th>\n",
       "      <th id=\"T_37a58_level0_col1\" class=\"col_heading level0 col1\" >Value</th>\n",
       "    </tr>\n",
       "  </thead>\n",
       "  <tbody>\n",
       "    <tr>\n",
       "      <th id=\"T_37a58_level0_row0\" class=\"row_heading level0 row0\" >0</th>\n",
       "      <td id=\"T_37a58_row0_col0\" class=\"data row0 col0\" >Session id</td>\n",
       "      <td id=\"T_37a58_row0_col1\" class=\"data row0 col1\" >123</td>\n",
       "    </tr>\n",
       "    <tr>\n",
       "      <th id=\"T_37a58_level0_row1\" class=\"row_heading level0 row1\" >1</th>\n",
       "      <td id=\"T_37a58_row1_col0\" class=\"data row1 col0\" >Target</td>\n",
       "      <td id=\"T_37a58_row1_col1\" class=\"data row1 col1\" >charges</td>\n",
       "    </tr>\n",
       "    <tr>\n",
       "      <th id=\"T_37a58_level0_row2\" class=\"row_heading level0 row2\" >2</th>\n",
       "      <td id=\"T_37a58_row2_col0\" class=\"data row2 col0\" >Target type</td>\n",
       "      <td id=\"T_37a58_row2_col1\" class=\"data row2 col1\" >Regression</td>\n",
       "    </tr>\n",
       "    <tr>\n",
       "      <th id=\"T_37a58_level0_row3\" class=\"row_heading level0 row3\" >3</th>\n",
       "      <td id=\"T_37a58_row3_col0\" class=\"data row3 col0\" >Original data shape</td>\n",
       "      <td id=\"T_37a58_row3_col1\" class=\"data row3 col1\" >(1338, 24)</td>\n",
       "    </tr>\n",
       "    <tr>\n",
       "      <th id=\"T_37a58_level0_row4\" class=\"row_heading level0 row4\" >4</th>\n",
       "      <td id=\"T_37a58_row4_col0\" class=\"data row4 col0\" >Transformed data shape</td>\n",
       "      <td id=\"T_37a58_row4_col1\" class=\"data row4 col1\" >(1338, 24)</td>\n",
       "    </tr>\n",
       "    <tr>\n",
       "      <th id=\"T_37a58_level0_row5\" class=\"row_heading level0 row5\" >5</th>\n",
       "      <td id=\"T_37a58_row5_col0\" class=\"data row5 col0\" >Transformed train set shape</td>\n",
       "      <td id=\"T_37a58_row5_col1\" class=\"data row5 col1\" >(936, 24)</td>\n",
       "    </tr>\n",
       "    <tr>\n",
       "      <th id=\"T_37a58_level0_row6\" class=\"row_heading level0 row6\" >6</th>\n",
       "      <td id=\"T_37a58_row6_col0\" class=\"data row6 col0\" >Transformed test set shape</td>\n",
       "      <td id=\"T_37a58_row6_col1\" class=\"data row6 col1\" >(402, 24)</td>\n",
       "    </tr>\n",
       "    <tr>\n",
       "      <th id=\"T_37a58_level0_row7\" class=\"row_heading level0 row7\" >7</th>\n",
       "      <td id=\"T_37a58_row7_col0\" class=\"data row7 col0\" >Numeric features</td>\n",
       "      <td id=\"T_37a58_row7_col1\" class=\"data row7 col1\" >23</td>\n",
       "    </tr>\n",
       "    <tr>\n",
       "      <th id=\"T_37a58_level0_row8\" class=\"row_heading level0 row8\" >8</th>\n",
       "      <td id=\"T_37a58_row8_col0\" class=\"data row8 col0\" >Preprocess</td>\n",
       "      <td id=\"T_37a58_row8_col1\" class=\"data row8 col1\" >True</td>\n",
       "    </tr>\n",
       "    <tr>\n",
       "      <th id=\"T_37a58_level0_row9\" class=\"row_heading level0 row9\" >9</th>\n",
       "      <td id=\"T_37a58_row9_col0\" class=\"data row9 col0\" >Imputation type</td>\n",
       "      <td id=\"T_37a58_row9_col1\" class=\"data row9 col1\" >simple</td>\n",
       "    </tr>\n",
       "    <tr>\n",
       "      <th id=\"T_37a58_level0_row10\" class=\"row_heading level0 row10\" >10</th>\n",
       "      <td id=\"T_37a58_row10_col0\" class=\"data row10 col0\" >Numeric imputation</td>\n",
       "      <td id=\"T_37a58_row10_col1\" class=\"data row10 col1\" >mean</td>\n",
       "    </tr>\n",
       "    <tr>\n",
       "      <th id=\"T_37a58_level0_row11\" class=\"row_heading level0 row11\" >11</th>\n",
       "      <td id=\"T_37a58_row11_col0\" class=\"data row11 col0\" >Categorical imputation</td>\n",
       "      <td id=\"T_37a58_row11_col1\" class=\"data row11 col1\" >mode</td>\n",
       "    </tr>\n",
       "    <tr>\n",
       "      <th id=\"T_37a58_level0_row12\" class=\"row_heading level0 row12\" >12</th>\n",
       "      <td id=\"T_37a58_row12_col0\" class=\"data row12 col0\" >Fold Generator</td>\n",
       "      <td id=\"T_37a58_row12_col1\" class=\"data row12 col1\" >KFold</td>\n",
       "    </tr>\n",
       "    <tr>\n",
       "      <th id=\"T_37a58_level0_row13\" class=\"row_heading level0 row13\" >13</th>\n",
       "      <td id=\"T_37a58_row13_col0\" class=\"data row13 col0\" >Fold Number</td>\n",
       "      <td id=\"T_37a58_row13_col1\" class=\"data row13 col1\" >10</td>\n",
       "    </tr>\n",
       "    <tr>\n",
       "      <th id=\"T_37a58_level0_row14\" class=\"row_heading level0 row14\" >14</th>\n",
       "      <td id=\"T_37a58_row14_col0\" class=\"data row14 col0\" >CPU Jobs</td>\n",
       "      <td id=\"T_37a58_row14_col1\" class=\"data row14 col1\" >-1</td>\n",
       "    </tr>\n",
       "    <tr>\n",
       "      <th id=\"T_37a58_level0_row15\" class=\"row_heading level0 row15\" >15</th>\n",
       "      <td id=\"T_37a58_row15_col0\" class=\"data row15 col0\" >Use GPU</td>\n",
       "      <td id=\"T_37a58_row15_col1\" class=\"data row15 col1\" >False</td>\n",
       "    </tr>\n",
       "    <tr>\n",
       "      <th id=\"T_37a58_level0_row16\" class=\"row_heading level0 row16\" >16</th>\n",
       "      <td id=\"T_37a58_row16_col0\" class=\"data row16 col0\" >Log Experiment</td>\n",
       "      <td id=\"T_37a58_row16_col1\" class=\"data row16 col1\" >False</td>\n",
       "    </tr>\n",
       "    <tr>\n",
       "      <th id=\"T_37a58_level0_row17\" class=\"row_heading level0 row17\" >17</th>\n",
       "      <td id=\"T_37a58_row17_col0\" class=\"data row17 col0\" >Experiment Name</td>\n",
       "      <td id=\"T_37a58_row17_col1\" class=\"data row17 col1\" >reg-default-name</td>\n",
       "    </tr>\n",
       "    <tr>\n",
       "      <th id=\"T_37a58_level0_row18\" class=\"row_heading level0 row18\" >18</th>\n",
       "      <td id=\"T_37a58_row18_col0\" class=\"data row18 col0\" >USI</td>\n",
       "      <td id=\"T_37a58_row18_col1\" class=\"data row18 col1\" >8d04</td>\n",
       "    </tr>\n",
       "  </tbody>\n",
       "</table>\n"
      ],
      "text/plain": [
       "<pandas.io.formats.style.Styler at 0x2972b8640>"
      ]
     },
     "metadata": {},
     "output_type": "display_data"
    },
    {
     "data": {
      "text/html": [],
      "text/plain": [
       "<IPython.core.display.HTML object>"
      ]
     },
     "metadata": {},
     "output_type": "display_data"
    },
    {
     "data": {
      "text/html": [
       "<style type=\"text/css\">\n",
       "#T_5258d th {\n",
       "  text-align: left;\n",
       "}\n",
       "#T_5258d_row0_col0, #T_5258d_row0_col6, #T_5258d_row1_col0, #T_5258d_row1_col1, #T_5258d_row1_col2, #T_5258d_row1_col3, #T_5258d_row1_col4, #T_5258d_row1_col5, #T_5258d_row1_col6, #T_5258d_row2_col0, #T_5258d_row2_col1, #T_5258d_row2_col2, #T_5258d_row2_col3, #T_5258d_row2_col4, #T_5258d_row2_col5, #T_5258d_row2_col6, #T_5258d_row3_col0, #T_5258d_row3_col1, #T_5258d_row3_col2, #T_5258d_row3_col3, #T_5258d_row3_col4, #T_5258d_row3_col5, #T_5258d_row3_col6, #T_5258d_row4_col0, #T_5258d_row4_col1, #T_5258d_row4_col2, #T_5258d_row4_col3, #T_5258d_row4_col4, #T_5258d_row4_col5, #T_5258d_row4_col6, #T_5258d_row5_col0, #T_5258d_row5_col1, #T_5258d_row5_col2, #T_5258d_row5_col3, #T_5258d_row5_col4, #T_5258d_row5_col5, #T_5258d_row5_col6, #T_5258d_row6_col0, #T_5258d_row6_col1, #T_5258d_row6_col2, #T_5258d_row6_col3, #T_5258d_row6_col4, #T_5258d_row6_col5, #T_5258d_row6_col6, #T_5258d_row7_col0, #T_5258d_row7_col1, #T_5258d_row7_col2, #T_5258d_row7_col3, #T_5258d_row7_col4, #T_5258d_row7_col5, #T_5258d_row7_col6, #T_5258d_row8_col0, #T_5258d_row8_col1, #T_5258d_row8_col2, #T_5258d_row8_col3, #T_5258d_row8_col4, #T_5258d_row8_col5, #T_5258d_row8_col6, #T_5258d_row9_col0, #T_5258d_row9_col1, #T_5258d_row9_col2, #T_5258d_row9_col3, #T_5258d_row9_col4, #T_5258d_row9_col5, #T_5258d_row9_col6, #T_5258d_row10_col0, #T_5258d_row10_col1, #T_5258d_row10_col2, #T_5258d_row10_col3, #T_5258d_row10_col4, #T_5258d_row10_col5, #T_5258d_row10_col6, #T_5258d_row11_col0, #T_5258d_row11_col1, #T_5258d_row11_col2, #T_5258d_row11_col3, #T_5258d_row11_col4, #T_5258d_row11_col5, #T_5258d_row11_col6, #T_5258d_row12_col0, #T_5258d_row12_col1, #T_5258d_row12_col2, #T_5258d_row12_col3, #T_5258d_row12_col4, #T_5258d_row12_col5, #T_5258d_row12_col6, #T_5258d_row13_col0, #T_5258d_row13_col1, #T_5258d_row13_col2, #T_5258d_row13_col3, #T_5258d_row13_col4, #T_5258d_row13_col5, #T_5258d_row14_col0, #T_5258d_row14_col1, #T_5258d_row14_col2, #T_5258d_row14_col3, #T_5258d_row14_col4, #T_5258d_row14_col5, #T_5258d_row14_col6, #T_5258d_row15_col0, #T_5258d_row15_col1, #T_5258d_row15_col2, #T_5258d_row15_col3, #T_5258d_row15_col4, #T_5258d_row15_col5, #T_5258d_row15_col6, #T_5258d_row16_col0, #T_5258d_row16_col1, #T_5258d_row16_col2, #T_5258d_row16_col3, #T_5258d_row16_col4, #T_5258d_row16_col5, #T_5258d_row16_col6, #T_5258d_row17_col0, #T_5258d_row17_col1, #T_5258d_row17_col2, #T_5258d_row17_col3, #T_5258d_row17_col4, #T_5258d_row17_col5, #T_5258d_row17_col6, #T_5258d_row18_col0, #T_5258d_row18_col1, #T_5258d_row18_col2, #T_5258d_row18_col3, #T_5258d_row18_col4, #T_5258d_row18_col5, #T_5258d_row18_col6 {\n",
       "  text-align: left;\n",
       "}\n",
       "#T_5258d_row0_col1, #T_5258d_row0_col2, #T_5258d_row0_col3, #T_5258d_row0_col4, #T_5258d_row0_col5, #T_5258d_row13_col6 {\n",
       "  text-align: left;\n",
       "  background-color: yellow;\n",
       "}\n",
       "#T_5258d_row0_col7, #T_5258d_row1_col7, #T_5258d_row2_col7, #T_5258d_row3_col7, #T_5258d_row4_col7, #T_5258d_row5_col7, #T_5258d_row8_col7, #T_5258d_row9_col7, #T_5258d_row10_col7, #T_5258d_row11_col7, #T_5258d_row12_col7, #T_5258d_row13_col7, #T_5258d_row14_col7, #T_5258d_row15_col7, #T_5258d_row17_col7 {\n",
       "  text-align: left;\n",
       "  background-color: lightgrey;\n",
       "}\n",
       "#T_5258d_row6_col7, #T_5258d_row7_col7, #T_5258d_row16_col7, #T_5258d_row18_col7 {\n",
       "  text-align: left;\n",
       "  background-color: yellow;\n",
       "  background-color: lightgrey;\n",
       "}\n",
       "</style>\n",
       "<table id=\"T_5258d\">\n",
       "  <thead>\n",
       "    <tr>\n",
       "      <th class=\"blank level0\" >&nbsp;</th>\n",
       "      <th id=\"T_5258d_level0_col0\" class=\"col_heading level0 col0\" >Model</th>\n",
       "      <th id=\"T_5258d_level0_col1\" class=\"col_heading level0 col1\" >MAE</th>\n",
       "      <th id=\"T_5258d_level0_col2\" class=\"col_heading level0 col2\" >MSE</th>\n",
       "      <th id=\"T_5258d_level0_col3\" class=\"col_heading level0 col3\" >RMSE</th>\n",
       "      <th id=\"T_5258d_level0_col4\" class=\"col_heading level0 col4\" >R2</th>\n",
       "      <th id=\"T_5258d_level0_col5\" class=\"col_heading level0 col5\" >RMSLE</th>\n",
       "      <th id=\"T_5258d_level0_col6\" class=\"col_heading level0 col6\" >MAPE</th>\n",
       "      <th id=\"T_5258d_level0_col7\" class=\"col_heading level0 col7\" >TT (Sec)</th>\n",
       "    </tr>\n",
       "  </thead>\n",
       "  <tbody>\n",
       "    <tr>\n",
       "      <th id=\"T_5258d_level0_row0\" class=\"row_heading level0 row0\" >gbr</th>\n",
       "      <td id=\"T_5258d_row0_col0\" class=\"data row0 col0\" >Gradient Boosting Regressor</td>\n",
       "      <td id=\"T_5258d_row0_col1\" class=\"data row0 col1\" >2701.6419</td>\n",
       "      <td id=\"T_5258d_row0_col2\" class=\"data row0 col2\" >23293759.9682</td>\n",
       "      <td id=\"T_5258d_row0_col3\" class=\"data row0 col3\" >4806.2493</td>\n",
       "      <td id=\"T_5258d_row0_col4\" class=\"data row0 col4\" >0.8338</td>\n",
       "      <td id=\"T_5258d_row0_col5\" class=\"data row0 col5\" >0.4480</td>\n",
       "      <td id=\"T_5258d_row0_col6\" class=\"data row0 col6\" >0.3181</td>\n",
       "      <td id=\"T_5258d_row0_col7\" class=\"data row0 col7\" >0.0200</td>\n",
       "    </tr>\n",
       "    <tr>\n",
       "      <th id=\"T_5258d_level0_row1\" class=\"row_heading level0 row1\" >rf</th>\n",
       "      <td id=\"T_5258d_row1_col0\" class=\"data row1 col0\" >Random Forest Regressor</td>\n",
       "      <td id=\"T_5258d_row1_col1\" class=\"data row1 col1\" >2802.6681</td>\n",
       "      <td id=\"T_5258d_row1_col2\" class=\"data row1 col2\" >25366609.9949</td>\n",
       "      <td id=\"T_5258d_row1_col3\" class=\"data row1 col3\" >5023.7201</td>\n",
       "      <td id=\"T_5258d_row1_col4\" class=\"data row1 col4\" >0.8170</td>\n",
       "      <td id=\"T_5258d_row1_col5\" class=\"data row1 col5\" >0.4765</td>\n",
       "      <td id=\"T_5258d_row1_col6\" class=\"data row1 col6\" >0.3434</td>\n",
       "      <td id=\"T_5258d_row1_col7\" class=\"data row1 col7\" >0.0490</td>\n",
       "    </tr>\n",
       "    <tr>\n",
       "      <th id=\"T_5258d_level0_row2\" class=\"row_heading level0 row2\" >catboost</th>\n",
       "      <td id=\"T_5258d_row2_col0\" class=\"data row2 col0\" >CatBoost Regressor</td>\n",
       "      <td id=\"T_5258d_row2_col1\" class=\"data row2 col1\" >2885.6382</td>\n",
       "      <td id=\"T_5258d_row2_col2\" class=\"data row2 col2\" >25682894.7005</td>\n",
       "      <td id=\"T_5258d_row2_col3\" class=\"data row2 col3\" >5054.9683</td>\n",
       "      <td id=\"T_5258d_row2_col4\" class=\"data row2 col4\" >0.8162</td>\n",
       "      <td id=\"T_5258d_row2_col5\" class=\"data row2 col5\" >0.4921</td>\n",
       "      <td id=\"T_5258d_row2_col6\" class=\"data row2 col6\" >0.3627</td>\n",
       "      <td id=\"T_5258d_row2_col7\" class=\"data row2 col7\" >0.2920</td>\n",
       "    </tr>\n",
       "    <tr>\n",
       "      <th id=\"T_5258d_level0_row3\" class=\"row_heading level0 row3\" >ada</th>\n",
       "      <td id=\"T_5258d_row3_col0\" class=\"data row3 col0\" >AdaBoost Regressor</td>\n",
       "      <td id=\"T_5258d_row3_col1\" class=\"data row3 col1\" >4261.7276</td>\n",
       "      <td id=\"T_5258d_row3_col2\" class=\"data row3 col2\" >28944148.1909</td>\n",
       "      <td id=\"T_5258d_row3_col3\" class=\"data row3 col3\" >5370.3325</td>\n",
       "      <td id=\"T_5258d_row3_col4\" class=\"data row3 col4\" >0.7944</td>\n",
       "      <td id=\"T_5258d_row3_col5\" class=\"data row3 col5\" >0.6358</td>\n",
       "      <td id=\"T_5258d_row3_col6\" class=\"data row3 col6\" >0.7310</td>\n",
       "      <td id=\"T_5258d_row3_col7\" class=\"data row3 col7\" >0.0080</td>\n",
       "    </tr>\n",
       "    <tr>\n",
       "      <th id=\"T_5258d_level0_row4\" class=\"row_heading level0 row4\" >et</th>\n",
       "      <td id=\"T_5258d_row4_col0\" class=\"data row4 col0\" >Extra Trees Regressor</td>\n",
       "      <td id=\"T_5258d_row4_col1\" class=\"data row4 col1\" >2840.8579</td>\n",
       "      <td id=\"T_5258d_row4_col2\" class=\"data row4 col2\" >29742598.1231</td>\n",
       "      <td id=\"T_5258d_row4_col3\" class=\"data row4 col3\" >5418.8141</td>\n",
       "      <td id=\"T_5258d_row4_col4\" class=\"data row4 col4\" >0.7833</td>\n",
       "      <td id=\"T_5258d_row4_col5\" class=\"data row4 col5\" >0.4947</td>\n",
       "      <td id=\"T_5258d_row4_col6\" class=\"data row4 col6\" >0.3509</td>\n",
       "      <td id=\"T_5258d_row4_col7\" class=\"data row4 col7\" >0.0480</td>\n",
       "    </tr>\n",
       "    <tr>\n",
       "      <th id=\"T_5258d_level0_row5\" class=\"row_heading level0 row5\" >xgboost</th>\n",
       "      <td id=\"T_5258d_row5_col0\" class=\"data row5 col0\" >Extreme Gradient Boosting</td>\n",
       "      <td id=\"T_5258d_row5_col1\" class=\"data row5 col1\" >3307.7649</td>\n",
       "      <td id=\"T_5258d_row5_col2\" class=\"data row5 col2\" >31624578.0000</td>\n",
       "      <td id=\"T_5258d_row5_col3\" class=\"data row5 col3\" >5606.4348</td>\n",
       "      <td id=\"T_5258d_row5_col4\" class=\"data row5 col4\" >0.7706</td>\n",
       "      <td id=\"T_5258d_row5_col5\" class=\"data row5 col5\" >0.5653</td>\n",
       "      <td id=\"T_5258d_row5_col6\" class=\"data row5 col6\" >0.4121</td>\n",
       "      <td id=\"T_5258d_row5_col7\" class=\"data row5 col7\" >0.1580</td>\n",
       "    </tr>\n",
       "    <tr>\n",
       "      <th id=\"T_5258d_level0_row6\" class=\"row_heading level0 row6\" >br</th>\n",
       "      <td id=\"T_5258d_row6_col0\" class=\"data row6 col0\" >Bayesian Ridge</td>\n",
       "      <td id=\"T_5258d_row6_col1\" class=\"data row6 col1\" >4301.6112</td>\n",
       "      <td id=\"T_5258d_row6_col2\" class=\"data row6 col2\" >37419464.3648</td>\n",
       "      <td id=\"T_5258d_row6_col3\" class=\"data row6 col3\" >6094.9895</td>\n",
       "      <td id=\"T_5258d_row6_col4\" class=\"data row6 col4\" >0.7381</td>\n",
       "      <td id=\"T_5258d_row6_col5\" class=\"data row6 col5\" >0.5872</td>\n",
       "      <td id=\"T_5258d_row6_col6\" class=\"data row6 col6\" >0.4606</td>\n",
       "      <td id=\"T_5258d_row6_col7\" class=\"data row6 col7\" >0.0060</td>\n",
       "    </tr>\n",
       "    <tr>\n",
       "      <th id=\"T_5258d_level0_row7\" class=\"row_heading level0 row7\" >ridge</th>\n",
       "      <td id=\"T_5258d_row7_col0\" class=\"data row7 col0\" >Ridge Regression</td>\n",
       "      <td id=\"T_5258d_row7_col1\" class=\"data row7 col1\" >4301.0145</td>\n",
       "      <td id=\"T_5258d_row7_col2\" class=\"data row7 col2\" >37438460.0000</td>\n",
       "      <td id=\"T_5258d_row7_col3\" class=\"data row7 col3\" >6096.5688</td>\n",
       "      <td id=\"T_5258d_row7_col4\" class=\"data row7 col4\" >0.7379</td>\n",
       "      <td id=\"T_5258d_row7_col5\" class=\"data row7 col5\" >0.5911</td>\n",
       "      <td id=\"T_5258d_row7_col6\" class=\"data row7 col6\" >0.4606</td>\n",
       "      <td id=\"T_5258d_row7_col7\" class=\"data row7 col7\" >0.0060</td>\n",
       "    </tr>\n",
       "    <tr>\n",
       "      <th id=\"T_5258d_level0_row8\" class=\"row_heading level0 row8\" >lasso</th>\n",
       "      <td id=\"T_5258d_row8_col0\" class=\"data row8 col0\" >Lasso Regression</td>\n",
       "      <td id=\"T_5258d_row8_col1\" class=\"data row8 col1\" >4298.5081</td>\n",
       "      <td id=\"T_5258d_row8_col2\" class=\"data row8 col2\" >37447378.8000</td>\n",
       "      <td id=\"T_5258d_row8_col3\" class=\"data row8 col3\" >6097.3192</td>\n",
       "      <td id=\"T_5258d_row8_col4\" class=\"data row8 col4\" >0.7378</td>\n",
       "      <td id=\"T_5258d_row8_col5\" class=\"data row8 col5\" >0.5900</td>\n",
       "      <td id=\"T_5258d_row8_col6\" class=\"data row8 col6\" >0.4600</td>\n",
       "      <td id=\"T_5258d_row8_col7\" class=\"data row8 col7\" >0.0070</td>\n",
       "    </tr>\n",
       "    <tr>\n",
       "      <th id=\"T_5258d_level0_row9\" class=\"row_heading level0 row9\" >lr</th>\n",
       "      <td id=\"T_5258d_row9_col0\" class=\"data row9 col0\" >Linear Regression</td>\n",
       "      <td id=\"T_5258d_row9_col1\" class=\"data row9 col1\" >4301.5493</td>\n",
       "      <td id=\"T_5258d_row9_col2\" class=\"data row9 col2\" >37470494.6000</td>\n",
       "      <td id=\"T_5258d_row9_col3\" class=\"data row9 col3\" >6099.2161</td>\n",
       "      <td id=\"T_5258d_row9_col4\" class=\"data row9 col4\" >0.7376</td>\n",
       "      <td id=\"T_5258d_row9_col5\" class=\"data row9 col5\" >0.5966</td>\n",
       "      <td id=\"T_5258d_row9_col6\" class=\"data row9 col6\" >0.4607</td>\n",
       "      <td id=\"T_5258d_row9_col7\" class=\"data row9 col7\" >0.1730</td>\n",
       "    </tr>\n",
       "    <tr>\n",
       "      <th id=\"T_5258d_level0_row10\" class=\"row_heading level0 row10\" >llar</th>\n",
       "      <td id=\"T_5258d_row10_col0\" class=\"data row10 col0\" >Lasso Least Angle Regression</td>\n",
       "      <td id=\"T_5258d_row10_col1\" class=\"data row10 col1\" >4369.3431</td>\n",
       "      <td id=\"T_5258d_row10_col2\" class=\"data row10 col2\" >38781590.6000</td>\n",
       "      <td id=\"T_5258d_row10_col3\" class=\"data row10 col3\" >6205.6870</td>\n",
       "      <td id=\"T_5258d_row10_col4\" class=\"data row10 col4\" >0.7250</td>\n",
       "      <td id=\"T_5258d_row10_col5\" class=\"data row10 col5\" >0.6001</td>\n",
       "      <td id=\"T_5258d_row10_col6\" class=\"data row10 col6\" >0.4886</td>\n",
       "      <td id=\"T_5258d_row10_col7\" class=\"data row10 col7\" >0.0070</td>\n",
       "    </tr>\n",
       "    <tr>\n",
       "      <th id=\"T_5258d_level0_row11\" class=\"row_heading level0 row11\" >omp</th>\n",
       "      <td id=\"T_5258d_row11_col0\" class=\"data row11 col0\" >Orthogonal Matching Pursuit</td>\n",
       "      <td id=\"T_5258d_row11_col1\" class=\"data row11 col1\" >4263.0094</td>\n",
       "      <td id=\"T_5258d_row11_col2\" class=\"data row11 col2\" >42375972.2673</td>\n",
       "      <td id=\"T_5258d_row11_col3\" class=\"data row11 col3\" >6483.2717</td>\n",
       "      <td id=\"T_5258d_row11_col4\" class=\"data row11 col4\" >0.7046</td>\n",
       "      <td id=\"T_5258d_row11_col5\" class=\"data row11 col5\" >0.4660</td>\n",
       "      <td id=\"T_5258d_row11_col6\" class=\"data row11 col6\" >0.3734</td>\n",
       "      <td id=\"T_5258d_row11_col7\" class=\"data row11 col7\" >0.0070</td>\n",
       "    </tr>\n",
       "    <tr>\n",
       "      <th id=\"T_5258d_level0_row12\" class=\"row_heading level0 row12\" >lar</th>\n",
       "      <td id=\"T_5258d_row12_col0\" class=\"data row12 col0\" >Least Angle Regression</td>\n",
       "      <td id=\"T_5258d_row12_col1\" class=\"data row12 col1\" >4758.1992</td>\n",
       "      <td id=\"T_5258d_row12_col2\" class=\"data row12 col2\" >44729897.2000</td>\n",
       "      <td id=\"T_5258d_row12_col3\" class=\"data row12 col3\" >6603.2610</td>\n",
       "      <td id=\"T_5258d_row12_col4\" class=\"data row12 col4\" >0.6705</td>\n",
       "      <td id=\"T_5258d_row12_col5\" class=\"data row12 col5\" >0.7629</td>\n",
       "      <td id=\"T_5258d_row12_col6\" class=\"data row12 col6\" >0.5730</td>\n",
       "      <td id=\"T_5258d_row12_col7\" class=\"data row12 col7\" >0.0070</td>\n",
       "    </tr>\n",
       "    <tr>\n",
       "      <th id=\"T_5258d_level0_row13\" class=\"row_heading level0 row13\" >huber</th>\n",
       "      <td id=\"T_5258d_row13_col0\" class=\"data row13 col0\" >Huber Regressor</td>\n",
       "      <td id=\"T_5258d_row13_col1\" class=\"data row13 col1\" >3374.6895</td>\n",
       "      <td id=\"T_5258d_row13_col2\" class=\"data row13 col2\" >48847776.0910</td>\n",
       "      <td id=\"T_5258d_row13_col3\" class=\"data row13 col3\" >6969.1707</td>\n",
       "      <td id=\"T_5258d_row13_col4\" class=\"data row13 col4\" >0.6543</td>\n",
       "      <td id=\"T_5258d_row13_col5\" class=\"data row13 col5\" >0.4511</td>\n",
       "      <td id=\"T_5258d_row13_col6\" class=\"data row13 col6\" >0.2067</td>\n",
       "      <td id=\"T_5258d_row13_col7\" class=\"data row13 col7\" >0.0090</td>\n",
       "    </tr>\n",
       "    <tr>\n",
       "      <th id=\"T_5258d_level0_row14\" class=\"row_heading level0 row14\" >dt</th>\n",
       "      <td id=\"T_5258d_row14_col0\" class=\"data row14 col0\" >Decision Tree Regressor</td>\n",
       "      <td id=\"T_5258d_row14_col1\" class=\"data row14 col1\" >3415.5519</td>\n",
       "      <td id=\"T_5258d_row14_col2\" class=\"data row14 col2\" >48398644.0194</td>\n",
       "      <td id=\"T_5258d_row14_col3\" class=\"data row14 col3\" >6914.2914</td>\n",
       "      <td id=\"T_5258d_row14_col4\" class=\"data row14 col4\" >0.6431</td>\n",
       "      <td id=\"T_5258d_row14_col5\" class=\"data row14 col5\" >0.5603</td>\n",
       "      <td id=\"T_5258d_row14_col6\" class=\"data row14 col6\" >0.4147</td>\n",
       "      <td id=\"T_5258d_row14_col7\" class=\"data row14 col7\" >0.0070</td>\n",
       "    </tr>\n",
       "    <tr>\n",
       "      <th id=\"T_5258d_level0_row15\" class=\"row_heading level0 row15\" >par</th>\n",
       "      <td id=\"T_5258d_row15_col0\" class=\"data row15 col0\" >Passive Aggressive Regressor</td>\n",
       "      <td id=\"T_5258d_row15_col1\" class=\"data row15 col1\" >3972.9564</td>\n",
       "      <td id=\"T_5258d_row15_col2\" class=\"data row15 col2\" >58940682.0425</td>\n",
       "      <td id=\"T_5258d_row15_col3\" class=\"data row15 col3\" >7593.7543</td>\n",
       "      <td id=\"T_5258d_row15_col4\" class=\"data row15 col4\" >0.6017</td>\n",
       "      <td id=\"T_5258d_row15_col5\" class=\"data row15 col5\" >0.5465</td>\n",
       "      <td id=\"T_5258d_row15_col6\" class=\"data row15 col6\" >0.2542</td>\n",
       "      <td id=\"T_5258d_row15_col7\" class=\"data row15 col7\" >0.0070</td>\n",
       "    </tr>\n",
       "    <tr>\n",
       "      <th id=\"T_5258d_level0_row16\" class=\"row_heading level0 row16\" >en</th>\n",
       "      <td id=\"T_5258d_row16_col0\" class=\"data row16 col0\" >Elastic Net</td>\n",
       "      <td id=\"T_5258d_row16_col1\" class=\"data row16 col1\" >6387.7441</td>\n",
       "      <td id=\"T_5258d_row16_col2\" class=\"data row16 col2\" >72026347.2000</td>\n",
       "      <td id=\"T_5258d_row16_col3\" class=\"data row16 col3\" >8448.3533</td>\n",
       "      <td id=\"T_5258d_row16_col4\" class=\"data row16 col4\" >0.5057</td>\n",
       "      <td id=\"T_5258d_row16_col5\" class=\"data row16 col5\" >0.6724</td>\n",
       "      <td id=\"T_5258d_row16_col6\" class=\"data row16 col6\" >0.7987</td>\n",
       "      <td id=\"T_5258d_row16_col7\" class=\"data row16 col7\" >0.0060</td>\n",
       "    </tr>\n",
       "    <tr>\n",
       "      <th id=\"T_5258d_level0_row17\" class=\"row_heading level0 row17\" >knn</th>\n",
       "      <td id=\"T_5258d_row17_col0\" class=\"data row17 col0\" >K Neighbors Regressor</td>\n",
       "      <td id=\"T_5258d_row17_col1\" class=\"data row17 col1\" >7240.1221</td>\n",
       "      <td id=\"T_5258d_row17_col2\" class=\"data row17 col2\" >114969575.2000</td>\n",
       "      <td id=\"T_5258d_row17_col3\" class=\"data row17 col3\" >10682.7121</td>\n",
       "      <td id=\"T_5258d_row17_col4\" class=\"data row17 col4\" >0.2009</td>\n",
       "      <td id=\"T_5258d_row17_col5\" class=\"data row17 col5\" >0.7695</td>\n",
       "      <td id=\"T_5258d_row17_col6\" class=\"data row17 col6\" >0.7854</td>\n",
       "      <td id=\"T_5258d_row17_col7\" class=\"data row17 col7\" >0.0070</td>\n",
       "    </tr>\n",
       "    <tr>\n",
       "      <th id=\"T_5258d_level0_row18\" class=\"row_heading level0 row18\" >dummy</th>\n",
       "      <td id=\"T_5258d_row18_col0\" class=\"data row18 col0\" >Dummy Regressor</td>\n",
       "      <td id=\"T_5258d_row18_col1\" class=\"data row18 col1\" >9192.5418</td>\n",
       "      <td id=\"T_5258d_row18_col2\" class=\"data row18 col2\" >148516792.8000</td>\n",
       "      <td id=\"T_5258d_row18_col3\" class=\"data row18 col3\" >12132.4733</td>\n",
       "      <td id=\"T_5258d_row18_col4\" class=\"data row18 col4\" >-0.0175</td>\n",
       "      <td id=\"T_5258d_row18_col5\" class=\"data row18 col5\" >1.0154</td>\n",
       "      <td id=\"T_5258d_row18_col6\" class=\"data row18 col6\" >1.5637</td>\n",
       "      <td id=\"T_5258d_row18_col7\" class=\"data row18 col7\" >0.0060</td>\n",
       "    </tr>\n",
       "  </tbody>\n",
       "</table>\n"
      ],
      "text/plain": [
       "<pandas.io.formats.style.Styler at 0x297321040>"
      ]
     },
     "metadata": {},
     "output_type": "display_data"
    },
    {
     "data": {
      "text/html": [],
      "text/plain": [
       "<IPython.core.display.HTML object>"
      ]
     },
     "metadata": {},
     "output_type": "display_data"
    }
   ],
   "source": [
    "from pycaret.regression import RegressionExperiment\n",
    "\n",
    "s = RegressionExperiment()\n",
    "s.setup(data, target = 'charges', session_id = 123)\n",
    "best = s.compare_models()"
   ]
  },
  {
   "cell_type": "markdown",
   "id": "ed6039e4",
   "metadata": {
    "id": "ed6039e4"
   },
   "source": [
    "- MAE 기준 상위 모델 5개 선정(?)"
   ]
  },
  {
   "cell_type": "markdown",
   "id": "b67be4d3",
   "metadata": {
    "id": "b67be4d3"
   },
   "source": [
    "gbr, rf, et, cat, huber"
   ]
  },
  {
   "cell_type": "code",
   "execution_count": null,
   "id": "0de34eeb",
   "metadata": {
    "id": "0de34eeb"
   },
   "outputs": [],
   "source": []
  }
 ],
 "metadata": {
  "accelerator": "GPU",
  "colab": {
   "provenance": []
  },
  "gpuClass": "standard",
  "kernelspec": {
   "display_name": "Python 3 (ipykernel)",
   "language": "python",
   "name": "python3"
  },
  "language_info": {
   "codemirror_mode": {
    "name": "ipython",
    "version": 3
   },
   "file_extension": ".py",
   "mimetype": "text/x-python",
   "name": "python",
   "nbconvert_exporter": "python",
   "pygments_lexer": "ipython3",
   "version": "3.9.13"
  }
 },
 "nbformat": 4,
 "nbformat_minor": 5
}
